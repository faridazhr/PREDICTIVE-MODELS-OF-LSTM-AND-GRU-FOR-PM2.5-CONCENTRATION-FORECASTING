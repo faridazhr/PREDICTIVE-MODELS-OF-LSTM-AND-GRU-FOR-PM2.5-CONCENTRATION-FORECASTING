{
 "cells": [
  {
   "cell_type": "markdown",
   "metadata": {},
   "source": [
    "## Import Library"
   ]
  },
  {
   "cell_type": "code",
   "execution_count": null,
   "metadata": {},
   "outputs": [],
   "source": [
    "import numpy as np\n",
    "import pandas as pd\n",
    "import matplotlib.pyplot as plt\n",
    "import seaborn as sns\n",
    "import tensorflow as tf\n",
    "\n",
    "import math\n",
    "import pickle\n",
    "\n",
    "from keras.models import Sequential\n",
    "from keras.layers import LSTM\n",
    "from keras.layers import Bidirectional\n",
    "from keras.layers import Flatten\n",
    "from keras.layers import Dense\n",
    "from keras.regularizers import l1\n",
    "from keras.regularizers import l2\n",
    "from keras.regularizers import L1L2\n",
    "\n",
    "from sklearn.metrics import mean_squared_error\n",
    "from sklearn.metrics import mean_absolute_error\n",
    "from sklearn.metrics import mean_absolute_percentage_error\n",
    "\n"
   ]
  },
  {
   "attachments": {},
   "cell_type": "markdown",
   "metadata": {},
   "source": [
    "## Define the functions to be used "
   ]
  },
  {
   "cell_type": "code",
   "execution_count": null,
   "metadata": {},
   "outputs": [],
   "source": [
    "from statistics import stdev\n",
    "\n",
    "def Average(data):\n",
    "    return sum(data) / len(data)\n",
    "\n",
    "def normalize_series(data, mean, std):\n",
    "    data = data - mean\n",
    "    data = data / std\n",
    "    return data\n",
    "\n",
    "def inverse_normalize_series(data, mean, std):\n",
    "    data = data * std\n",
    "    data = data + mean\n",
    "    return data"
   ]
  },
  {
   "cell_type": "code",
   "execution_count": null,
   "metadata": {},
   "outputs": [],
   "source": [
    "def model_forecast(model, series, window_size, batch_size):\n",
    "   ds = tf.data.Dataset.from_tensor_slices(series)\n",
    "   ds = ds.window(window_size, shift=1, drop_remainder=True)\n",
    "   ds = ds.flat_map(lambda w: w.batch(window_size))\n",
    "   ds = ds.batch(batch_size, drop_remainder=True).prefetch(1)\n",
    "   forecast = model.predict(ds)\n",
    "   return forecast"
   ]
  },
  {
   "attachments": {},
   "cell_type": "markdown",
   "metadata": {},
   "source": [
    "# Dataset"
   ]
  },
  {
   "cell_type": "markdown",
   "metadata": {},
   "source": [
    "## Read Dataset"
   ]
  },
  {
   "cell_type": "code",
   "execution_count": null,
   "metadata": {},
   "outputs": [],
   "source": [
    "dataset = pd.read_excel('./dataset21Apr-21Jun2022.xlsx')\n",
    "dataset = dataset[['date', 'pm2p5']]"
   ]
  },
  {
   "cell_type": "code",
   "execution_count": null,
   "metadata": {},
   "outputs": [],
   "source": [
    "dataset.describe()"
   ]
  },
  {
   "cell_type": "code",
   "execution_count": null,
   "metadata": {},
   "outputs": [],
   "source": [
    "plt.subplots(figsize = (15,6)) \n",
    "sns.lineplot(x=\"date\", y=\"pm2p5\",\n",
    "             data=dataset, marker='.', color='red')\n",
    "plt.title(\"Raw Data of Hourly Data PM2.5 from Apr 21st - Jun 21st 2022\")"
   ]
  },
  {
   "cell_type": "markdown",
   "metadata": {},
   "source": [
    "## Remove negative values and above 200"
   ]
  },
  {
   "cell_type": "code",
   "execution_count": null,
   "metadata": {},
   "outputs": [],
   "source": [
    "for i in range(len(dataset)):\n",
    "    if dataset['pm2p5'][i] < 0 or dataset['pm2p5'][i] > 200:\n",
    "        dataset['pm2p5'][i] = np.nan"
   ]
  },
  {
   "cell_type": "code",
   "execution_count": null,
   "metadata": {},
   "outputs": [],
   "source": [
    "dataset.describe()"
   ]
  },
  {
   "cell_type": "code",
   "execution_count": null,
   "metadata": {},
   "outputs": [],
   "source": [
    "print(dataset.info())"
   ]
  },
  {
   "cell_type": "code",
   "execution_count": null,
   "metadata": {},
   "outputs": [],
   "source": [
    "dataset['pm2p5'][1290:1320].plot()"
   ]
  },
  {
   "cell_type": "markdown",
   "metadata": {},
   "source": [
    "## Fill empty data with interpolate method"
   ]
  },
  {
   "cell_type": "code",
   "execution_count": null,
   "metadata": {},
   "outputs": [],
   "source": [
    "dataset['pm2p5'] = dataset['pm2p5'].interpolate(option='spline')"
   ]
  },
  {
   "cell_type": "code",
   "execution_count": null,
   "metadata": {},
   "outputs": [],
   "source": [
    "print(dataset.info())"
   ]
  },
  {
   "cell_type": "code",
   "execution_count": null,
   "metadata": {},
   "outputs": [],
   "source": [
    "dataset['pm2p5'][1290:1320].plot()"
   ]
  },
  {
   "cell_type": "code",
   "execution_count": null,
   "metadata": {},
   "outputs": [],
   "source": [
    "from turtle import color\n",
    "\n",
    "\n",
    "plt.subplots(figsize = (15,6))\n",
    "sns.lineplot(x=\"date\", y=\"pm2p5\",\n",
    "             data=dataset, marker='.')\n",
    "plt.title(\"Hourly Data PM2.5 from Apr 21st - Jun 21st 2022\")"
   ]
  },
  {
   "cell_type": "code",
   "execution_count": null,
   "metadata": {},
   "outputs": [],
   "source": [
    "dataset.describe()"
   ]
  },
  {
   "attachments": {},
   "cell_type": "markdown",
   "metadata": {},
   "source": [
    "## Split data to validation and testing\n",
    "\n",
    "split data with proportion 70% for training data, 20% for validation data and 10% for testing"
   ]
  },
  {
   "cell_type": "code",
   "execution_count": null,
   "metadata": {},
   "outputs": [],
   "source": [
    "n_lookback = 24  # length of input sequences (lookback period)\n",
    "n_forecast = 24  # length of output sequences (forecast period)"
   ]
  },
  {
   "cell_type": "code",
   "execution_count": null,
   "metadata": {},
   "outputs": [],
   "source": [
    "SPLIT_TIME_TRAIN_REM = int(math.floor(0.7*((len(dataset))/24)) * 24) \n",
    "SPLIT_TIME_TRAIN_REM"
   ]
  },
  {
   "cell_type": "code",
   "execution_count": null,
   "metadata": {},
   "outputs": [],
   "source": [
    "data_train = dataset[:SPLIT_TIME_TRAIN_REM]['pm2p5']\n",
    "data_train = pd.DataFrame(data_train)\n",
    "data_train.index = dataset[:SPLIT_TIME_TRAIN_REM]['date']\n",
    "\n",
    "data_rem = dataset[SPLIT_TIME_TRAIN_REM:]['pm2p5']\n",
    "data_rem = pd.DataFrame(data_rem)\n",
    "data_rem.index = dataset[SPLIT_TIME_TRAIN_REM:]['date']"
   ]
  },
  {
   "cell_type": "code",
   "execution_count": null,
   "metadata": {},
   "outputs": [],
   "source": [
    "SPLIT_TIME_VAL_TEST = int(math.floor(0.87*((len(data_rem))/24)) * 24) \n",
    "SPLIT_TIME_VAL_TEST"
   ]
  },
  {
   "cell_type": "code",
   "execution_count": null,
   "metadata": {},
   "outputs": [],
   "source": [
    "data_val = data_rem[:SPLIT_TIME_VAL_TEST]\n",
    "data_val = pd.DataFrame(data_val)\n",
    "\n",
    "data_test = data_rem[SPLIT_TIME_VAL_TEST:]\n",
    "data_test = pd.DataFrame(data_test)"
   ]
  },
  {
   "cell_type": "code",
   "execution_count": null,
   "metadata": {},
   "outputs": [],
   "source": [
    "# % of training set\n",
    "print(len(data_train)/len(dataset))\n",
    "print(len(data_val)/len(dataset))\n",
    "print(len(data_test)/len(dataset))"
   ]
  },
  {
   "cell_type": "code",
   "execution_count": null,
   "metadata": {},
   "outputs": [],
   "source": [
    "data_test.head()"
   ]
  },
  {
   "cell_type": "code",
   "execution_count": null,
   "metadata": {},
   "outputs": [],
   "source": [
    "from turtle import color\n",
    "\n",
    "\n",
    "plt.subplots(figsize = (25,8))\n",
    "sns.lineplot(x=\"date\", y=\"pm2p5\",\n",
    "             data=data_train, marker='.', label='Training Data')\n",
    "sns.lineplot(x=\"date\", y=\"pm2p5\",\n",
    "             data=data_val, marker='.', label='Validation Data')\n",
    "sns.lineplot(x=\"date\", y=\"pm2p5\",\n",
    "             data=data_test, marker='.', label='Testing Data')\n",
    "plt.title(\"Pembagian Data PM2.5 menjadi Data Pelatihan, Validasi, dan Pengujian\", fontsize = 20)\n",
    "plt.legend(loc='upper left', prop={'size': 16})"
   ]
  },
  {
   "cell_type": "code",
   "execution_count": null,
   "metadata": {},
   "outputs": [],
   "source": [
    "pm2p5 = dataset[\"pm2p5\"].values.reshape(-1, 1)\n",
    "\n",
    "pm2p5_train = data_train.values.reshape(-1, 1)\n",
    "\n",
    "pm2p5_val = data_val.values.reshape(-1, 1)\n",
    "\n",
    "pm2p5_test = data_test.values.reshape(-1, 1)\n",
    "\n",
    "print(pm2p5_train.shape);print(pm2p5_val.shape)"
   ]
  },
  {
   "cell_type": "code",
   "execution_count": null,
   "metadata": {},
   "outputs": [],
   "source": [
    "x_train = []\n",
    "y_train = []\n",
    "\n",
    "for i in range(n_lookback, len(pm2p5_train) - n_forecast + 1):\n",
    "    x_train.append(pm2p5_train[i - n_lookback: i])\n",
    "    y_train.append(pm2p5_train[i: i + n_forecast])\n",
    "\n",
    "x_train = np.array(x_train)\n",
    "y_train = np.array(y_train)\n",
    "print(x_train.shape)\n",
    "print(y_train.shape)"
   ]
  },
  {
   "cell_type": "code",
   "execution_count": null,
   "metadata": {},
   "outputs": [],
   "source": [
    "print(x_train[0]);print(y_train[0])"
   ]
  },
  {
   "cell_type": "code",
   "execution_count": null,
   "metadata": {},
   "outputs": [],
   "source": [
    "x_val = []\n",
    "y_val = []\n",
    "\n",
    "for i in range(n_lookback, len(pm2p5_val) - n_forecast + 1):\n",
    "    x_val.append(pm2p5_val[i - n_lookback: i])\n",
    "    y_val.append(pm2p5_val[i: i + n_forecast])\n",
    "\n",
    "x_val = np.array(x_val)\n",
    "y_val = np.array(y_val)\n",
    "print(x_val.shape)\n",
    "print(y_val.shape)"
   ]
  },
  {
   "cell_type": "code",
   "execution_count": null,
   "metadata": {},
   "outputs": [],
   "source": [
    "print(x_val[-1]);print(y_val[-1])"
   ]
  },
  {
   "attachments": {},
   "cell_type": "markdown",
   "metadata": {},
   "source": [
    "## Scaling / Normalize Data"
   ]
  },
  {
   "cell_type": "code",
   "execution_count": null,
   "metadata": {},
   "outputs": [],
   "source": [
    "pm2p5_train_scaled = normalize_series(pm2p5_train, Average(pm2p5_train), stdev(pm2p5_train.flatten()))\n",
    "\n",
    "pm2p5_val_scaled = normalize_series(pm2p5_val, Average(pm2p5_val), stdev(pm2p5_val.flatten()))\n",
    "\n",
    "pm2p5_test_scaled = normalize_series(pm2p5_test, Average(pm2p5_test), stdev(pm2p5_test.flatten()))"
   ]
  },
  {
   "cell_type": "markdown",
   "metadata": {},
   "source": [
    "## Set feature and label period"
   ]
  },
  {
   "cell_type": "code",
   "execution_count": null,
   "metadata": {},
   "outputs": [],
   "source": [
    "x_train = []\n",
    "y_train = []\n",
    "\n",
    "for i in range(n_lookback, len(pm2p5_train_scaled) - n_forecast + 1):\n",
    "    x_train.append(pm2p5_train_scaled[i - n_lookback: i])\n",
    "    y_train.append(pm2p5_train_scaled[i: i + n_forecast])\n",
    "\n",
    "x_train = np.array(x_train)\n",
    "y_train = np.array(y_train)\n",
    "print(x_train.shape)\n",
    "print(y_train.shape)"
   ]
  },
  {
   "cell_type": "code",
   "execution_count": null,
   "metadata": {},
   "outputs": [],
   "source": [
    "x_val = []\n",
    "y_val = []\n",
    "\n",
    "for i in range(n_lookback, len(pm2p5_val_scaled) - n_forecast + 1):\n",
    "    x_val.append(pm2p5_val_scaled[i - n_lookback: i])\n",
    "    y_val.append(pm2p5_val_scaled[i: i + n_forecast])\n",
    "\n",
    "x_val = np.array(x_val)\n",
    "y_val = np.array(y_val)\n",
    "print(x_val.shape)\n",
    "print(y_val.shape)"
   ]
  },
  {
   "attachments": {},
   "cell_type": "markdown",
   "metadata": {},
   "source": [
    "# Vanilla LSTM"
   ]
  },
  {
   "cell_type": "markdown",
   "metadata": {},
   "source": [
    "## generate model"
   ]
  },
  {
   "cell_type": "code",
   "execution_count": null,
   "metadata": {},
   "outputs": [],
   "source": [
    "modelVanillaLSTM = Sequential([\n",
    "        LSTM(8, kernel_regularizer=l2(0.01), recurrent_regularizer=l2(0.01), bias_regularizer=l2(0.01), activation='relu', return_sequences=True,\n",
    "            input_shape=x_train[0].shape),                                          \n",
    "        Flatten(),\n",
    "        Dense(n_forecast)\n",
    "    ])\n",
    "\n",
    "modelVanillaLSTM.summary()"
   ]
  },
  {
   "cell_type": "code",
   "execution_count": null,
   "metadata": {},
   "outputs": [],
   "source": [
    "optimizer = tf.keras.optimizers.Adam(learning_rate=1e-4)\n",
    "modelVanillaLSTM.compile(loss=tf.losses.Huber(),\n",
    "              optimizer=optimizer,\n",
    "              metrics=[\"mse\"])"
   ]
  },
  {
   "cell_type": "code",
   "execution_count": null,
   "metadata": {},
   "outputs": [],
   "source": [
    "estop=tf.keras.callbacks.EarlyStopping(monitor=\"val_loss\",patience=15,verbose=1,\n",
    "                                       restore_best_weights=True)\n",
    "mc=tf.keras.callbacks.ModelCheckpoint('./model v9/UnivariateForecast_VanillaLSTM-Model.h5', monitor='val_mse', mode='min', verbose=1, save_best_only=True)"
   ]
  },
  {
   "cell_type": "code",
   "execution_count": null,
   "metadata": {},
   "outputs": [],
   "source": [
    "historyVanillaLSTM = modelVanillaLSTM.fit(\n",
    "    x_train, y_train, \n",
    "    epochs=1000, \n",
    "    batch_size=8, \n",
    "    callbacks=[estop, mc],\n",
    "    validation_data=(x_val,y_val))"
   ]
  },
  {
   "cell_type": "code",
   "execution_count": null,
   "metadata": {},
   "outputs": [],
   "source": [
    "with open('./model v9/historyVanillaLSTM', 'wb') as file_pi:\n",
    "    pickle.dump(historyVanillaLSTM.history, file_pi)\n",
    "\n",
    "with open('./model v9/historyVanillaLSTM', \"rb\") as file_pi:\n",
    "    load_historyVanillaLSTM = pickle.load(file_pi)"
   ]
  },
  {
   "cell_type": "code",
   "execution_count": null,
   "metadata": {},
   "outputs": [],
   "source": [
    "def plot_graphs(history, metric):\n",
    "    plt.plot(history.history[metric])\n",
    "    plt.plot(history.history[f'val_{metric}'])\n",
    "    plt.xlabel(\"Epochs\")\n",
    "    plt.ylabel(metric)\n",
    "    plt.title(f\"Training vs Validation {metric} of Vanilla LSTM\")\n",
    "    plt.legend([metric, f'val_{metric}'])\n",
    "    plt.show()\n",
    "    \n",
    "plot_graphs(historyVanillaLSTM, \"loss\")\n",
    "plot_graphs(historyVanillaLSTM, \"mse\")"
   ]
  },
  {
   "attachments": {},
   "cell_type": "markdown",
   "metadata": {},
   "source": [
    "## Prediction"
   ]
  },
  {
   "attachments": {},
   "cell_type": "markdown",
   "metadata": {},
   "source": [
    "### Prediction with training data"
   ]
  },
  {
   "cell_type": "code",
   "execution_count": null,
   "metadata": {},
   "outputs": [],
   "source": [
    "forecast_train_data = model_forecast(modelVanillaLSTM, pm2p5_train_scaled, n_lookback, 1)\n",
    "print(forecast_train_data.shape)\n",
    "\n",
    "forecast_train_data = forecast_train_data[:-1, 0]\n",
    "print(forecast_train_data.shape)\n",
    "print(pm2p5_train_scaled.shape[0]-n_lookback)"
   ]
  },
  {
   "cell_type": "code",
   "execution_count": null,
   "metadata": {},
   "outputs": [],
   "source": [
    "forecast_train_data = inverse_normalize_series(forecast_train_data, Average(pm2p5_train), stdev(pm2p5_train.flatten()))\n",
    "forecast_train_data[:5]"
   ]
  },
  {
   "cell_type": "code",
   "execution_count": null,
   "metadata": {},
   "outputs": [],
   "source": [
    "actual = np.squeeze(pm2p5_train[-forecast_train_data.shape[0]:])\n",
    "print(actual.shape)\n",
    "print(actual[:5])"
   ]
  },
  {
   "cell_type": "code",
   "execution_count": null,
   "metadata": {},
   "outputs": [],
   "source": [
    "df_train = pd.DataFrame(columns=['Date', 'Actual', 'Forecast'])\n",
    "df_train['Date'] = data_train[-forecast_train_data.shape[0]:].index\n",
    "df_train['Forecast'] = forecast_train_data\n",
    "df_train['Actual'] = actual\n",
    "df_train"
   ]
  },
  {
   "cell_type": "code",
   "execution_count": null,
   "metadata": {},
   "outputs": [],
   "source": [
    "plt.subplots(figsize=(20, 5))\n",
    "ax = sns.lineplot(x=\"Date\", y=\"Actual\", data=df_train, \n",
    "                    label=\"data latih aktual\", marker='.', color = 'tan')\n",
    "ax = sns.lineplot(x=\"Date\", y=\"Forecast\", data=df_train, \n",
    "                    label=\"prakiraan data latih\", marker='.', linestyle=\"--\", color = 'darkslateblue')\n",
    "plt.xlabel('Tanggal'); plt.ylabel('Konsentrasi PM 2.5')\n",
    "plt.title(\"Grafik Data Aktual dan Hasil Prakiraan dari Data Latih (Train Data)\\n\", fontsize = 15)\n",
    "plt.legend(loc='upper left')"
   ]
  },
  {
   "cell_type": "code",
   "execution_count": null,
   "metadata": {},
   "outputs": [],
   "source": [
    "rmse = mean_squared_error(df_train['Forecast'], df_train['Actual'], squared=False)\n",
    "mae = mean_absolute_error(df_train['Forecast'], df_train['Actual'])\n",
    "mape = mean_absolute_percentage_error(df_train['Forecast'], df_train['Actual'])\n",
    "\n",
    "print('Forecast Train accuracy')\n",
    "print('RMSE: ', round(rmse,2))\n",
    "print('MAE: ', round(mae,2))\n",
    "print('MAPE: ', round(mape,4))"
   ]
  },
  {
   "attachments": {},
   "cell_type": "markdown",
   "metadata": {},
   "source": [
    "### Prediction with validation data"
   ]
  },
  {
   "cell_type": "code",
   "execution_count": null,
   "metadata": {},
   "outputs": [],
   "source": [
    "forecast_val_data = model_forecast(modelVanillaLSTM, pm2p5_val_scaled, n_lookback, 1)\n",
    "print(forecast_val_data.shape)\n",
    "\n",
    "forecast_val_data = forecast_val_data[:-1, 0]\n",
    "print(forecast_val_data.shape)\n",
    "print(pm2p5_val_scaled.shape[0]-n_lookback)"
   ]
  },
  {
   "cell_type": "code",
   "execution_count": null,
   "metadata": {},
   "outputs": [],
   "source": [
    "forecast_val_data = inverse_normalize_series(forecast_val_data, Average(pm2p5_val), stdev(pm2p5_val.flatten()))\n",
    "forecast_val_data[:5]"
   ]
  },
  {
   "cell_type": "code",
   "execution_count": null,
   "metadata": {},
   "outputs": [],
   "source": [
    "actual = np.squeeze(pm2p5_val[-forecast_val_data.shape[0]:])\n",
    "print(actual.shape)\n",
    "print(actual[:5])"
   ]
  },
  {
   "cell_type": "code",
   "execution_count": null,
   "metadata": {},
   "outputs": [],
   "source": [
    "len(data_val[-forecast_val_data.shape[0]:])"
   ]
  },
  {
   "cell_type": "code",
   "execution_count": null,
   "metadata": {},
   "outputs": [],
   "source": [
    "df_val = pd.DataFrame(columns=['Date', 'Actual', 'Forecast'])\n",
    "df_val['Date'] = data_val[-forecast_val_data.shape[0]:].index\n",
    "df_val['Forecast'] = forecast_val_data\n",
    "df_val['Actual'] = actual\n",
    "df_val"
   ]
  },
  {
   "cell_type": "code",
   "execution_count": null,
   "metadata": {},
   "outputs": [],
   "source": [
    "plt.subplots(figsize=(15, 5))\n",
    "ax = sns.lineplot(x=\"Date\", y=\"Actual\", data=df_val, \n",
    "                    label=\"data validasi aktual\", marker='.', color='sandybrown')\n",
    "ax = sns.lineplot(x=\"Date\", y=\"Forecast\", data=df_val, \n",
    "                    label=\"prakiraan data validasi\", marker='.', linestyle=\"--\", color='darkslategrey')\n",
    "plt.xlabel('Tanggal'); plt.ylabel('Konsentrasi PM 2.5')\n",
    "plt.title(\"Grafik Data Aktual dan Hasil Prakiraan dari Data Validasi (Validation Data)\\n\", fontsize = 15)\n",
    "plt.legend(loc='upper left')"
   ]
  },
  {
   "cell_type": "code",
   "execution_count": null,
   "metadata": {},
   "outputs": [],
   "source": [
    "rmse = mean_squared_error(df_val['Forecast'], df_val['Actual'], squared=False)\n",
    "mae = mean_absolute_error(df_val['Forecast'], df_val['Actual'])\n",
    "mape = mean_absolute_percentage_error(df_val['Forecast'], df_val['Actual'])\n",
    "\n",
    "print('Forecast Val accuracy')\n",
    "print('RMSE: ', round(rmse,2))\n",
    "print('MAE: ', round(mae,2))\n",
    "print('MAPE: ', round(mape,4))"
   ]
  },
  {
   "attachments": {},
   "cell_type": "markdown",
   "metadata": {},
   "source": [
    "### Prediction with test data"
   ]
  },
  {
   "cell_type": "code",
   "execution_count": null,
   "metadata": {},
   "outputs": [],
   "source": [
    "forecast_test_data = model_forecast(modelVanillaLSTM, pm2p5_test_scaled, n_lookback, 1)\n",
    "print(forecast_test_data.shape)\n",
    "\n",
    "forecast_test_data = forecast_test_data[:-1, 0]\n",
    "print(forecast_test_data.shape)\n",
    "print(pm2p5_test_scaled.shape[0]-n_lookback)"
   ]
  },
  {
   "cell_type": "code",
   "execution_count": null,
   "metadata": {},
   "outputs": [],
   "source": [
    "forecast_test_data = inverse_normalize_series(forecast_test_data, Average(pm2p5_test), stdev(pm2p5_test.flatten()))\n",
    "forecast_test_data[:5]"
   ]
  },
  {
   "cell_type": "code",
   "execution_count": null,
   "metadata": {},
   "outputs": [],
   "source": [
    "actual = np.squeeze(pm2p5_test[-forecast_test_data.shape[0]:])\n",
    "print(actual.shape)\n",
    "print(actual[:5])"
   ]
  },
  {
   "cell_type": "code",
   "execution_count": null,
   "metadata": {},
   "outputs": [],
   "source": [
    "df_test = pd.DataFrame(columns=['Date', 'Actual', 'Forecast'])\n",
    "df_test['Date'] = data_test[-forecast_test_data.shape[0]:].index\n",
    "df_test['Forecast'] = forecast_test_data\n",
    "df_test['Actual'] = actual\n",
    "df_test"
   ]
  },
  {
   "cell_type": "code",
   "execution_count": null,
   "metadata": {},
   "outputs": [],
   "source": [
    "\n",
    "\n",
    "plt.subplots(figsize=(10, 5))\n",
    "ax = sns.lineplot(x=\"Date\", y=\"Actual\", data=df_test,\n",
    "                    label=\"data test aktual\", marker='.', color = 'skyblue')\n",
    "ax = sns.lineplot(x=\"Date\", y=\"Forecast\", data=df_test, \n",
    "                    label=\"prakiraan data test\", marker='.', linestyle=\"--\", color='darkmagenta')\n",
    "plt.xlabel('Tanggal'); plt.ylabel('Konsentrasi PM 2.5')\n",
    "plt.title(\"Grafik Data Aktual dan Hasil Prakiraan dari Data Uji (Test Data)\\n\", fontsize = 15)\n",
    "plt.legend(loc='upper left')"
   ]
  },
  {
   "cell_type": "code",
   "execution_count": null,
   "metadata": {},
   "outputs": [],
   "source": [
    "rmse = mean_squared_error(df_test['Forecast'], df_test['Actual'], squared=False)\n",
    "mae = mean_absolute_error(df_test['Forecast'], df_test['Actual'])\n",
    "mape = mean_absolute_percentage_error(df_test['Forecast'], df_test['Actual'])\n",
    "\n",
    "print('Forecast Test accuracy')\n",
    "print('RMSE: ', round(rmse,2))\n",
    "print('MAE: ', round(mae,2))\n",
    "print('MAPE: ', round(mape,4))"
   ]
  },
  {
   "cell_type": "code",
   "execution_count": null,
   "metadata": {},
   "outputs": [],
   "source": [
    "fig, ax = plt.subplots(figsize = (25,8)) \n",
    "ax = sns.lineplot(x=\"Date\", y=\"Actual\", data=df_train, \n",
    "                    label=\"data latih aktual\", marker='.', color='tan')\n",
    "ax = sns.lineplot(x=\"Date\", y=\"Forecast\", data=df_train, \n",
    "                    label=\"prakiraan data latih\", marker='.', linestyle=\"--\", color='darkslateblue')\n",
    "ax = sns.lineplot(x=\"Date\", y=\"Actual\", data=df_val, \n",
    "                    label=\"data validasi aktual\", marker='.', color='sandybrown')\n",
    "ax = sns.lineplot(x=\"Date\", y=\"Forecast\", data=df_val, \n",
    "                    label=\"prakiraan data validasi\", marker='.', linestyle=\"--\", color='darkslategrey')\n",
    "ax = sns.lineplot(x=\"Date\", y=\"Actual\", data=df_test,\n",
    "                    label=\"data uji aktual\", marker='.', color = 'skyblue')\n",
    "ax = sns.lineplot(x=\"Date\", y=\"Forecast\", data=df_test, \n",
    "                    label=\"prakiraan data uji\", marker='.', linestyle=\"--\", color='darkmagenta')\n",
    "plt.xlabel('Tanggal'); plt.ylabel('Konsentrasi PM 2.5')\n",
    "plt.title(\"Grafik Data Aktual dan Hasil Prakiraan\\n\", fontsize = 20)\n",
    "plt.legend(loc='upper left')"
   ]
  },
  {
   "attachments": {},
   "cell_type": "markdown",
   "metadata": {},
   "source": [
    "## Summary Eval Metric"
   ]
  },
  {
   "cell_type": "code",
   "execution_count": null,
   "metadata": {},
   "outputs": [],
   "source": [
    "rmse = mean_squared_error(df_train['Forecast'], df_train['Actual'], squared=False)\n",
    "mae = mean_absolute_error(df_train['Forecast'], df_train['Actual'])\n",
    "mape = mean_absolute_percentage_error(df_train['Forecast'], df_train['Actual'])\n",
    "\n",
    "print('Forecast Train accuracy')\n",
    "print('RMSE: ', round(rmse,2))\n",
    "print('MAE: ', round(mae,2))\n",
    "print('MAPE: ', round(mape,4))\n",
    "\n",
    "rmse = mean_squared_error(df_val['Forecast'], df_val['Actual'], squared=False)\n",
    "mae = mean_absolute_error(df_val['Forecast'], df_val['Actual'])\n",
    "mape = mean_absolute_percentage_error(df_val['Forecast'], df_val['Actual'])\n",
    "\n",
    "print('Forecast Val accuracy')\n",
    "print('RMSE: ', round(rmse,2))\n",
    "print('MAE: ', round(mae,2))\n",
    "print('MAPE: ', round(mape,4))\n",
    "\n",
    "rmse = mean_squared_error(df_test['Forecast'], df_test['Actual'], squared=False)\n",
    "mae = mean_absolute_error(df_test['Forecast'], df_test['Actual'])\n",
    "mape = mean_absolute_percentage_error(df_test['Forecast'], df_test['Actual'])\n",
    "\n",
    "print('Forecast Test accuracy')\n",
    "print('RMSE: ', round(rmse,2))\n",
    "print('MAE: ', round(mae,2))\n",
    "print('MAPE: ', round(mape,4))"
   ]
  },
  {
   "attachments": {},
   "cell_type": "markdown",
   "metadata": {},
   "source": [
    "# 2-Stacked LSTM"
   ]
  },
  {
   "cell_type": "markdown",
   "metadata": {},
   "source": [
    "## generate model"
   ]
  },
  {
   "cell_type": "code",
   "execution_count": null,
   "metadata": {},
   "outputs": [],
   "source": [
    "model2StackedLSTM = Sequential([\n",
    "        LSTM(8, kernel_regularizer=l2(0.01), recurrent_regularizer=l2(0.01), bias_regularizer=l2(0.01), activation='relu', \n",
    "            input_shape=x_train[0].shape, return_sequences=True),\n",
    "        LSTM(8, kernel_regularizer=l2(0.01), recurrent_regularizer=l2(0.01), bias_regularizer=l2(0.01), activation='relu', return_sequences=True),                                             \n",
    "        Flatten(),\n",
    "        Dense(n_forecast)\n",
    "    ])\n",
    "\n",
    "model2StackedLSTM.summary()"
   ]
  },
  {
   "cell_type": "code",
   "execution_count": null,
   "metadata": {},
   "outputs": [],
   "source": [
    "optimizer = tf.keras.optimizers.Adam(learning_rate=1e-4)\n",
    "model2StackedLSTM.compile(loss=tf.losses.Huber(),\n",
    "              optimizer=optimizer,\n",
    "              metrics=[\"mse\"])"
   ]
  },
  {
   "cell_type": "code",
   "execution_count": null,
   "metadata": {},
   "outputs": [],
   "source": [
    "estop=tf.keras.callbacks.EarlyStopping(monitor=\"val_loss\",patience=15,verbose=1,\n",
    "                                       restore_best_weights=True)\n",
    "mc=tf.keras.callbacks.ModelCheckpoint('./model v9/UnivariateForecast_2StackedLSTM-Model.h5', monitor='val_mse', mode='min', verbose=1, save_best_only=True)"
   ]
  },
  {
   "cell_type": "code",
   "execution_count": null,
   "metadata": {},
   "outputs": [],
   "source": [
    "history2StackedLSTM = model2StackedLSTM.fit(\n",
    "    x_train, y_train, \n",
    "    epochs=1000, \n",
    "    batch_size=8, \n",
    "    callbacks=[estop, mc],\n",
    "    validation_data=(x_val,y_val))"
   ]
  },
  {
   "cell_type": "code",
   "execution_count": null,
   "metadata": {},
   "outputs": [],
   "source": [
    "with open('./model v9/history2StackedLSTM', 'wb') as file_pi:\n",
    "    pickle.dump(history2StackedLSTM.history, file_pi)\n",
    "\n",
    "with open('./model v9/history2StackedLSTM', \"rb\") as file_pi:\n",
    "    load_history2StackedLSTM = pickle.load(file_pi)"
   ]
  },
  {
   "cell_type": "code",
   "execution_count": null,
   "metadata": {},
   "outputs": [],
   "source": [
    "def plot_graphs(history, metric):\n",
    "    plt.plot(history.history[metric])\n",
    "    plt.plot(history.history[f'val_{metric}'])\n",
    "    plt.xlabel(\"Epochs\")\n",
    "    plt.ylabel(metric)\n",
    "    plt.title(f\"Training vs Validation {metric} of 2-Stacked LSTM\")\n",
    "    plt.legend([metric, f'val_{metric}'])\n",
    "    plt.show()\n",
    "    \n",
    "plot_graphs(history2StackedLSTM, \"loss\")\n",
    "plot_graphs(history2StackedLSTM, \"mse\")"
   ]
  },
  {
   "attachments": {},
   "cell_type": "markdown",
   "metadata": {},
   "source": [
    "## Prediction"
   ]
  },
  {
   "attachments": {},
   "cell_type": "markdown",
   "metadata": {},
   "source": [
    "### Prediction with training data"
   ]
  },
  {
   "cell_type": "code",
   "execution_count": null,
   "metadata": {},
   "outputs": [],
   "source": [
    "def model_forecast(model, series, window_size, batch_size):\n",
    "   ds = tf.data.Dataset.from_tensor_slices(series)\n",
    "   ds = ds.window(window_size, shift=1, drop_remainder=True)\n",
    "   ds = ds.flat_map(lambda w: w.batch(window_size))\n",
    "   ds = ds.batch(batch_size, drop_remainder=True).prefetch(1)\n",
    "   forecast = model.predict(ds)\n",
    "   return forecast"
   ]
  },
  {
   "cell_type": "code",
   "execution_count": null,
   "metadata": {},
   "outputs": [],
   "source": [
    "forecast_train_data = model_forecast(model2StackedLSTM, pm2p5_train_scaled, n_lookback, 1)\n",
    "print(forecast_train_data.shape)\n",
    "\n",
    "forecast_train_data = forecast_train_data[:-1, 0]\n",
    "print(forecast_train_data.shape)\n",
    "print(pm2p5_train_scaled.shape[0]-n_lookback)"
   ]
  },
  {
   "cell_type": "code",
   "execution_count": null,
   "metadata": {},
   "outputs": [],
   "source": [
    "forecast_train_data = inverse_normalize_series(forecast_train_data, Average(pm2p5_train), stdev(pm2p5_train.flatten()))\n",
    "forecast_train_data[:5]"
   ]
  },
  {
   "cell_type": "code",
   "execution_count": null,
   "metadata": {},
   "outputs": [],
   "source": [
    "actual = np.squeeze(pm2p5_train[-forecast_train_data.shape[0]:])\n",
    "print(actual.shape)\n",
    "print(actual[:5])"
   ]
  },
  {
   "cell_type": "code",
   "execution_count": null,
   "metadata": {},
   "outputs": [],
   "source": [
    "df_train = pd.DataFrame(columns=['Date', 'Actual', 'Forecast'])\n",
    "df_train['Date'] = data_train[-forecast_train_data.shape[0]:].index\n",
    "df_train['Forecast'] = forecast_train_data\n",
    "df_train['Actual'] = actual\n",
    "df_train"
   ]
  },
  {
   "cell_type": "code",
   "execution_count": null,
   "metadata": {},
   "outputs": [],
   "source": [
    "plt.subplots(figsize=(20, 5))\n",
    "ax = sns.lineplot(x=\"Date\", y=\"Actual\", data=df_train, \n",
    "                    label=\"data latih aktual\", marker='.', color = 'tan')\n",
    "ax = sns.lineplot(x=\"Date\", y=\"Forecast\", data=df_train, \n",
    "                    label=\"prakiraan data latih\", marker='.', linestyle=\"--\", color = 'darkslateblue')\n",
    "plt.xlabel('Tanggal'); plt.ylabel('Konsentrasi PM 2.5')\n",
    "plt.title(\"Grafik Data Aktual dan Hasil Prakiraan dari Data Latih (Train Data)\\n\", fontsize = 15)\n",
    "plt.legend(loc='upper left')"
   ]
  },
  {
   "cell_type": "code",
   "execution_count": null,
   "metadata": {},
   "outputs": [],
   "source": [
    "rmse = mean_squared_error(df_train['Forecast'], df_train['Actual'], squared=False)\n",
    "mae = mean_absolute_error(df_train['Forecast'], df_train['Actual'])\n",
    "mape = mean_absolute_percentage_error(df_train['Forecast'], df_train['Actual'])\n",
    "\n",
    "print('Forecast Train accuracy')\n",
    "print('RMSE: ', round(rmse,2))\n",
    "print('MAE: ', round(mae,2))\n",
    "print('MAPE: ', round(mape,4))"
   ]
  },
  {
   "attachments": {},
   "cell_type": "markdown",
   "metadata": {},
   "source": [
    "### Prediction with validation data"
   ]
  },
  {
   "cell_type": "code",
   "execution_count": null,
   "metadata": {},
   "outputs": [],
   "source": [
    "forecast_val_data = model_forecast(model2StackedLSTM, pm2p5_val_scaled, n_lookback, 1)\n",
    "print(forecast_val_data.shape)\n",
    "\n",
    "forecast_val_data = forecast_val_data[:-1, 0]\n",
    "print(forecast_val_data.shape)\n",
    "print(pm2p5_val_scaled.shape[0]-n_lookback)"
   ]
  },
  {
   "cell_type": "code",
   "execution_count": null,
   "metadata": {},
   "outputs": [],
   "source": [
    "forecast_val_data = inverse_normalize_series(forecast_val_data, Average(pm2p5_val), stdev(pm2p5_val.flatten()))\n",
    "forecast_val_data[:5]"
   ]
  },
  {
   "cell_type": "code",
   "execution_count": null,
   "metadata": {},
   "outputs": [],
   "source": [
    "actual = np.squeeze(pm2p5_val[-forecast_val_data.shape[0]:])\n",
    "print(actual.shape)\n",
    "print(actual[:5])"
   ]
  },
  {
   "cell_type": "code",
   "execution_count": null,
   "metadata": {},
   "outputs": [],
   "source": [
    "len(data_val[-forecast_val_data.shape[0]:])"
   ]
  },
  {
   "cell_type": "code",
   "execution_count": null,
   "metadata": {},
   "outputs": [],
   "source": [
    "df_val = pd.DataFrame(columns=['Date', 'Actual', 'Forecast'])\n",
    "df_val['Date'] = data_val[-forecast_val_data.shape[0]:].index\n",
    "df_val['Forecast'] = forecast_val_data\n",
    "df_val['Actual'] = actual\n",
    "df_val"
   ]
  },
  {
   "cell_type": "code",
   "execution_count": null,
   "metadata": {},
   "outputs": [],
   "source": [
    "plt.subplots(figsize=(15, 5))\n",
    "ax = sns.lineplot(x=\"Date\", y=\"Actual\", data=df_val, \n",
    "                    label=\"data validasi aktual\", marker='.', color='sandybrown')\n",
    "ax = sns.lineplot(x=\"Date\", y=\"Forecast\", data=df_val, \n",
    "                    label=\"prakiraan data validasi\", marker='.', linestyle=\"--\", color='darkslategrey')\n",
    "plt.xlabel('Tanggal'); plt.ylabel('Konsentrasi PM 2.5')\n",
    "plt.title(\"Grafik Data Aktual dan Hasil Prakiraan dari Data Validasi (Validation Data)\\n\", fontsize = 15)\n",
    "plt.legend(loc='upper left')"
   ]
  },
  {
   "cell_type": "code",
   "execution_count": null,
   "metadata": {},
   "outputs": [],
   "source": [
    "rmse = mean_squared_error(df_val['Forecast'], df_val['Actual'], squared=False)\n",
    "mae = mean_absolute_error(df_val['Forecast'], df_val['Actual'])\n",
    "mape = mean_absolute_percentage_error(df_val['Forecast'], df_val['Actual'])\n",
    "\n",
    "print('Forecast Val accuracy')\n",
    "print('RMSE: ', round(rmse,2))\n",
    "print('MAE: ', round(mae,2))\n",
    "print('MAPE: ', round(mape,4))"
   ]
  },
  {
   "attachments": {},
   "cell_type": "markdown",
   "metadata": {},
   "source": [
    "### Prediction with test data"
   ]
  },
  {
   "cell_type": "code",
   "execution_count": null,
   "metadata": {},
   "outputs": [],
   "source": [
    "forecast_test_data = model_forecast(model2StackedLSTM, pm2p5_test_scaled, n_lookback, 1)\n",
    "print(forecast_test_data.shape)\n",
    "\n",
    "forecast_test_data = forecast_test_data[:-1, 0]\n",
    "print(forecast_test_data.shape)\n",
    "print(pm2p5_test_scaled.shape[0]-n_lookback)"
   ]
  },
  {
   "cell_type": "code",
   "execution_count": null,
   "metadata": {},
   "outputs": [],
   "source": [
    "forecast_test_data = inverse_normalize_series(forecast_test_data, Average(pm2p5_test), stdev(pm2p5_test.flatten()))\n",
    "forecast_test_data[:5]"
   ]
  },
  {
   "cell_type": "code",
   "execution_count": null,
   "metadata": {},
   "outputs": [],
   "source": [
    "actual = np.squeeze(pm2p5_test[-forecast_test_data.shape[0]:])\n",
    "print(actual.shape)\n",
    "print(actual[:5])"
   ]
  },
  {
   "cell_type": "code",
   "execution_count": null,
   "metadata": {},
   "outputs": [],
   "source": [
    "df_test = pd.DataFrame(columns=['Date', 'Actual', 'Forecast'])\n",
    "df_test['Date'] = data_test[-forecast_test_data.shape[0]:].index\n",
    "df_test['Forecast'] = forecast_test_data\n",
    "df_test['Actual'] = actual\n",
    "df_test"
   ]
  },
  {
   "cell_type": "code",
   "execution_count": null,
   "metadata": {},
   "outputs": [],
   "source": [
    "plt.subplots(figsize=(10, 5))\n",
    "ax = sns.lineplot(x=\"Date\", y=\"Actual\", data=df_test,\n",
    "                    label=\"data test aktual\", marker='.', color = 'skyblue')\n",
    "ax = sns.lineplot(x=\"Date\", y=\"Forecast\", data=df_test, \n",
    "                    label=\"prakiraan data test\", marker='.', linestyle=\"--\", color='darkmagenta')\n",
    "plt.xlabel('Tanggal'); plt.ylabel('Konsentrasi PM 2.5')\n",
    "plt.title(\"Grafik Data Aktual dan Hasil Prakiraan dari Data Uji (Test Data)\\n\", fontsize = 15)\n",
    "plt.legend(loc='upper left')"
   ]
  },
  {
   "cell_type": "code",
   "execution_count": null,
   "metadata": {},
   "outputs": [],
   "source": [
    "rmse = mean_squared_error(df_test['Forecast'], df_test['Actual'], squared=False)\n",
    "mae = mean_absolute_error(df_test['Forecast'], df_test['Actual'])\n",
    "mape = mean_absolute_percentage_error(df_test['Forecast'], df_test['Actual'])\n",
    "\n",
    "print('Forecast Test accuracy')\n",
    "print('RMSE: ', round(rmse,2))\n",
    "print('MAE: ', round(mae,2))\n",
    "print('MAPE: ', round(mape,4))"
   ]
  },
  {
   "attachments": {},
   "cell_type": "markdown",
   "metadata": {},
   "source": [
    "## Summary Eval Metric"
   ]
  },
  {
   "cell_type": "code",
   "execution_count": null,
   "metadata": {},
   "outputs": [],
   "source": [
    "fig, ax = plt.subplots(figsize = (25,8)) \n",
    "ax = sns.lineplot(x=\"Date\", y=\"Actual\", data=df_train, \n",
    "                    label=\"data latih aktual\", marker='.', color='tan')\n",
    "ax = sns.lineplot(x=\"Date\", y=\"Forecast\", data=df_train, \n",
    "                    label=\"prakiraan data latih\", marker='.', linestyle=\"--\", color='darkslateblue')\n",
    "ax = sns.lineplot(x=\"Date\", y=\"Actual\", data=df_val, \n",
    "                    label=\"data validasi aktual\", marker='.', color='sandybrown')\n",
    "ax = sns.lineplot(x=\"Date\", y=\"Forecast\", data=df_val, \n",
    "                    label=\"prakiraan data validasi\", marker='.', linestyle=\"--\", color='darkslategrey')\n",
    "ax = sns.lineplot(x=\"Date\", y=\"Actual\", data=df_test,\n",
    "                    label=\"data uji aktual\", marker='.', color = 'skyblue')\n",
    "ax = sns.lineplot(x=\"Date\", y=\"Forecast\", data=df_test, \n",
    "                    label=\"prakiraan data uji\", marker='.', linestyle=\"--\", color='darkmagenta')\n",
    "plt.xlabel('Tanggal'); plt.ylabel('Konsentrasi PM 2.5')\n",
    "plt.title(\"Grafik Data Aktual dan Hasil Prakiraan\\n\", fontsize = 20)\n",
    "plt.legend(loc='upper left')"
   ]
  },
  {
   "cell_type": "code",
   "execution_count": null,
   "metadata": {},
   "outputs": [],
   "source": [
    "rmse = mean_squared_error(df_train['Forecast'], df_train['Actual'], squared=False)\n",
    "mae = mean_absolute_error(df_train['Forecast'], df_train['Actual'])\n",
    "mape = mean_absolute_percentage_error(df_train['Forecast'], df_train['Actual'])\n",
    "\n",
    "print('Forecast Train accuracy')\n",
    "print('RMSE: ', round(rmse,2))\n",
    "print('MAE: ', round(mae,2))\n",
    "print('MAPE: ', round(mape,4))\n",
    "\n",
    "rmse = mean_squared_error(df_val['Forecast'], df_val['Actual'], squared=False)\n",
    "mae = mean_absolute_error(df_val['Forecast'], df_val['Actual'])\n",
    "mape = mean_absolute_percentage_error(df_val['Forecast'], df_val['Actual'])\n",
    "\n",
    "print('Forecast Val accuracy')\n",
    "print('RMSE: ', round(rmse,2))\n",
    "print('MAE: ', round(mae,2))\n",
    "print('MAPE: ', round(mape,4))\n",
    "\n",
    "rmse = mean_squared_error(df_test['Forecast'], df_test['Actual'], squared=False)\n",
    "mae = mean_absolute_error(df_test['Forecast'], df_test['Actual'])\n",
    "mape = mean_absolute_percentage_error(df_test['Forecast'], df_test['Actual'])\n",
    "\n",
    "print('Forecast Test accuracy')\n",
    "print('RMSE: ', round(rmse,2))\n",
    "print('MAE: ', round(mae,2))\n",
    "print('MAPE: ', round(mape,4))"
   ]
  },
  {
   "attachments": {},
   "cell_type": "markdown",
   "metadata": {},
   "source": [
    "# 3-Stacked LSTM"
   ]
  },
  {
   "cell_type": "markdown",
   "metadata": {},
   "source": [
    "## generate model"
   ]
  },
  {
   "cell_type": "code",
   "execution_count": null,
   "metadata": {},
   "outputs": [],
   "source": [
    "model3StackedLSTM = Sequential([\n",
    "        LSTM(8, kernel_regularizer=l2(0.01), recurrent_regularizer=l2(0.01), bias_regularizer=l2(0.01), activation='relu', return_sequences=True, \n",
    "            input_shape=x_train[0].shape),\n",
    "        LSTM(8, kernel_regularizer=l2(0.01), recurrent_regularizer=l2(0.01), bias_regularizer=l2(0.01), activation='relu', return_sequences=True),\n",
    "        LSTM(8, kernel_regularizer=l2(0.01), recurrent_regularizer=l2(0.01), bias_regularizer=l2(0.01), activation='relu', return_sequences=True),                                            \n",
    "        Flatten(),\n",
    "        Dense(n_forecast)\n",
    "    ])\n",
    "\n",
    "model3StackedLSTM.summary()"
   ]
  },
  {
   "cell_type": "code",
   "execution_count": null,
   "metadata": {},
   "outputs": [],
   "source": [
    "optimizer = tf.keras.optimizers.Adam(learning_rate=1e-4)\n",
    "model3StackedLSTM.compile(loss=tf.losses.Huber(),\n",
    "              optimizer=optimizer,\n",
    "              metrics=[\"mse\"])"
   ]
  },
  {
   "cell_type": "code",
   "execution_count": null,
   "metadata": {},
   "outputs": [],
   "source": [
    "estop=tf.keras.callbacks.EarlyStopping(monitor=\"val_loss\",patience=15,verbose=1,\n",
    "                                       restore_best_weights=True)\n",
    "mc=tf.keras.callbacks.ModelCheckpoint('./model v9/UnivariateForecast_3StackedLSTM-Model.h5', monitor='val_mse', mode='min', verbose=1, save_best_only=True)"
   ]
  },
  {
   "cell_type": "code",
   "execution_count": null,
   "metadata": {},
   "outputs": [],
   "source": [
    "history3StackedLSTM = model3StackedLSTM.fit(\n",
    "    x_train, y_train, \n",
    "    epochs=1000, \n",
    "    batch_size=8, \n",
    "    callbacks=[estop, mc],\n",
    "    validation_data=(x_val,y_val))"
   ]
  },
  {
   "cell_type": "code",
   "execution_count": null,
   "metadata": {},
   "outputs": [],
   "source": [
    "with open('./model v9/history3StackedLSTM', 'wb') as file_pi:\n",
    "    pickle.dump(history3StackedLSTM.history, file_pi)\n",
    "\n",
    "with open('./model v9/history3StackedLSTM', \"rb\") as file_pi:\n",
    "    load_history3StackedLSTM = pickle.load(file_pi)"
   ]
  },
  {
   "cell_type": "code",
   "execution_count": null,
   "metadata": {},
   "outputs": [],
   "source": [
    "def plot_graphs(history, metric):\n",
    "    plt.plot(history.history[metric])\n",
    "    plt.plot(history.history[f'val_{metric}'])\n",
    "    plt.xlabel(\"Epochs\")\n",
    "    plt.ylabel(metric)\n",
    "    plt.title(f\"Training vs Validation {metric} of 3-Stacked LSTM\")\n",
    "    plt.legend([metric, f'val_{metric}'])\n",
    "    plt.show()\n",
    "    \n",
    "plot_graphs(history3StackedLSTM, \"loss\")\n",
    "plot_graphs(history3StackedLSTM, \"mse\")"
   ]
  },
  {
   "attachments": {},
   "cell_type": "markdown",
   "metadata": {},
   "source": [
    "## Prediction"
   ]
  },
  {
   "attachments": {},
   "cell_type": "markdown",
   "metadata": {},
   "source": [
    "### Prediction with training data"
   ]
  },
  {
   "cell_type": "code",
   "execution_count": null,
   "metadata": {},
   "outputs": [],
   "source": [
    "def model_forecast(model, series, window_size, batch_size):\n",
    "   ds = tf.data.Dataset.from_tensor_slices(series)\n",
    "   ds = ds.window(window_size, shift=1, drop_remainder=True)\n",
    "   ds = ds.flat_map(lambda w: w.batch(window_size))\n",
    "   ds = ds.batch(batch_size, drop_remainder=True).prefetch(1)\n",
    "   forecast = model.predict(ds)\n",
    "   return forecast"
   ]
  },
  {
   "cell_type": "code",
   "execution_count": null,
   "metadata": {},
   "outputs": [],
   "source": [
    "forecast_train_data = model_forecast(model3StackedLSTM, pm2p5_train_scaled, n_lookback, 1)\n",
    "print(forecast_train_data.shape)\n",
    "\n",
    "forecast_train_data = forecast_train_data[:-1, 0]\n",
    "print(forecast_train_data.shape)\n",
    "print(pm2p5_train_scaled.shape[0]-n_lookback)"
   ]
  },
  {
   "cell_type": "code",
   "execution_count": null,
   "metadata": {},
   "outputs": [],
   "source": [
    "forecast_train_data = inverse_normalize_series(forecast_train_data, Average(pm2p5_train), stdev(pm2p5_train.flatten()))\n",
    "forecast_train_data[:5]"
   ]
  },
  {
   "cell_type": "code",
   "execution_count": null,
   "metadata": {},
   "outputs": [],
   "source": [
    "actual = np.squeeze(pm2p5_train[-forecast_train_data.shape[0]:])\n",
    "print(actual.shape)\n",
    "print(actual[:5])"
   ]
  },
  {
   "cell_type": "code",
   "execution_count": null,
   "metadata": {},
   "outputs": [],
   "source": [
    "df_train = pd.DataFrame(columns=['Date', 'Actual', 'Forecast'])\n",
    "df_train['Date'] = data_train[-forecast_train_data.shape[0]:].index\n",
    "df_train['Forecast'] = forecast_train_data\n",
    "df_train['Actual'] = actual\n",
    "df_train"
   ]
  },
  {
   "cell_type": "code",
   "execution_count": null,
   "metadata": {},
   "outputs": [],
   "source": [
    "plt.subplots(figsize=(20, 5))\n",
    "ax = sns.lineplot(x=\"Date\", y=\"Actual\", data=df_train, \n",
    "                    label=\"data latih aktual\", marker='.', color = 'tan')\n",
    "ax = sns.lineplot(x=\"Date\", y=\"Forecast\", data=df_train, \n",
    "                    label=\"prakiraan data latih\", marker='.', linestyle=\"--\", color = 'darkslateblue')\n",
    "plt.xlabel('Tanggal'); plt.ylabel('Konsentrasi PM 2.5')\n",
    "plt.title(\"Grafik Data Aktual dan Hasil Prakiraan dari Data Latih (Train Data)\\n\", fontsize = 15)\n",
    "plt.legend(loc='upper left')"
   ]
  },
  {
   "cell_type": "code",
   "execution_count": null,
   "metadata": {},
   "outputs": [],
   "source": [
    "rmse = mean_squared_error(df_train['Forecast'], df_train['Actual'], squared=False)\n",
    "mae = mean_absolute_error(df_train['Forecast'], df_train['Actual'])\n",
    "mape = mean_absolute_percentage_error(df_train['Forecast'], df_train['Actual'])\n",
    "\n",
    "print('Forecast Train accuracy')\n",
    "print('RMSE: ', round(rmse,2))\n",
    "print('MAE: ', round(mae,2))\n",
    "print('MAPE: ', round(mape,4))"
   ]
  },
  {
   "attachments": {},
   "cell_type": "markdown",
   "metadata": {},
   "source": [
    "### Prediction with validation data"
   ]
  },
  {
   "cell_type": "code",
   "execution_count": null,
   "metadata": {},
   "outputs": [],
   "source": [
    "forecast_val_data = model_forecast(model3StackedLSTM, pm2p5_val_scaled, n_lookback, 1)\n",
    "print(forecast_val_data.shape)\n",
    "\n",
    "forecast_val_data = forecast_val_data[:-1, 0]\n",
    "print(forecast_val_data.shape)\n",
    "print(pm2p5_val_scaled.shape[0]-n_lookback)"
   ]
  },
  {
   "cell_type": "code",
   "execution_count": null,
   "metadata": {},
   "outputs": [],
   "source": [
    "forecast_val_data = inverse_normalize_series(forecast_val_data, Average(pm2p5_val), stdev(pm2p5_val.flatten()))\n",
    "forecast_val_data[:5]"
   ]
  },
  {
   "cell_type": "code",
   "execution_count": null,
   "metadata": {},
   "outputs": [],
   "source": [
    "actual = np.squeeze(pm2p5_val[-forecast_val_data.shape[0]:])\n",
    "print(actual.shape)\n",
    "print(actual[:5])"
   ]
  },
  {
   "cell_type": "code",
   "execution_count": null,
   "metadata": {},
   "outputs": [],
   "source": [
    "len(data_val[-forecast_val_data.shape[0]:])"
   ]
  },
  {
   "cell_type": "code",
   "execution_count": null,
   "metadata": {},
   "outputs": [],
   "source": [
    "df_val = pd.DataFrame(columns=['Date', 'Actual', 'Forecast'])\n",
    "df_val['Date'] = data_val[-forecast_val_data.shape[0]:].index\n",
    "df_val['Forecast'] = forecast_val_data\n",
    "df_val['Actual'] = actual\n",
    "df_val"
   ]
  },
  {
   "cell_type": "code",
   "execution_count": null,
   "metadata": {},
   "outputs": [],
   "source": [
    "plt.subplots(figsize=(15, 5))\n",
    "ax = sns.lineplot(x=\"Date\", y=\"Actual\", data=df_val, \n",
    "                    label=\"data validasi aktual\", marker='.', color='sandybrown')\n",
    "ax = sns.lineplot(x=\"Date\", y=\"Forecast\", data=df_val, \n",
    "                    label=\"prakiraan data validasi\", marker='.', linestyle=\"--\", color='darkslategrey')\n",
    "plt.xlabel('Tanggal'); plt.ylabel('Konsentrasi PM 2.5')\n",
    "plt.title(\"Grafik Data Aktual dan Hasil Prakiraan dari Data Validasi (Validation Data)\\n\", fontsize = 15)\n",
    "plt.legend(loc='upper left')"
   ]
  },
  {
   "cell_type": "code",
   "execution_count": null,
   "metadata": {},
   "outputs": [],
   "source": [
    "rmse = mean_squared_error(df_val['Forecast'], df_val['Actual'], squared=False)\n",
    "mae = mean_absolute_error(df_val['Forecast'], df_val['Actual'])\n",
    "mape = mean_absolute_percentage_error(df_val['Forecast'], df_val['Actual'])\n",
    "\n",
    "print('Forecast Val accuracy')\n",
    "print('RMSE: ', round(rmse,2))\n",
    "print('MAE: ', round(mae,2))\n",
    "print('MAPE: ', round(mape,4))"
   ]
  },
  {
   "attachments": {},
   "cell_type": "markdown",
   "metadata": {},
   "source": [
    "### Prediction with test data"
   ]
  },
  {
   "cell_type": "code",
   "execution_count": null,
   "metadata": {},
   "outputs": [],
   "source": [
    "pm2p5_test = data_test.values\n",
    "\n",
    "pm2p5_test_scaled = normalize_series(pm2p5_test, Average(pm2p5_test), stdev(pm2p5_test.flatten()))"
   ]
  },
  {
   "cell_type": "code",
   "execution_count": null,
   "metadata": {},
   "outputs": [],
   "source": [
    "forecast_test_data = model_forecast(model3StackedLSTM, pm2p5_test_scaled, n_lookback, 1)\n",
    "print(forecast_test_data.shape)\n",
    "\n",
    "forecast_test_data = forecast_test_data[:-1, 0]\n",
    "print(forecast_test_data.shape)\n",
    "print(pm2p5_test_scaled.shape[0]-n_lookback)"
   ]
  },
  {
   "cell_type": "code",
   "execution_count": null,
   "metadata": {},
   "outputs": [],
   "source": [
    "forecast_test_data = inverse_normalize_series(forecast_test_data, Average(pm2p5_test), stdev(pm2p5_test.flatten()))\n",
    "forecast_test_data[:5]"
   ]
  },
  {
   "cell_type": "code",
   "execution_count": null,
   "metadata": {},
   "outputs": [],
   "source": [
    "actual = np.squeeze(pm2p5_test[-forecast_test_data.shape[0]:])\n",
    "print(actual.shape)\n",
    "print(actual[:5])"
   ]
  },
  {
   "cell_type": "code",
   "execution_count": null,
   "metadata": {},
   "outputs": [],
   "source": [
    "df_test = pd.DataFrame(columns=['Date', 'Actual', 'Forecast'])\n",
    "df_test['Date'] = data_test[-forecast_test_data.shape[0]:].index\n",
    "df_test['Forecast'] = forecast_test_data\n",
    "df_test['Actual'] = actual\n",
    "df_test"
   ]
  },
  {
   "cell_type": "code",
   "execution_count": null,
   "metadata": {},
   "outputs": [],
   "source": [
    "plt.subplots(figsize=(10, 5))\n",
    "ax = sns.lineplot(x=\"Date\", y=\"Actual\", data=df_test,\n",
    "                    label=\"data test aktual\", marker='.', color = 'skyblue')\n",
    "ax = sns.lineplot(x=\"Date\", y=\"Forecast\", data=df_test, \n",
    "                    label=\"prakiraan data test\", marker='.', linestyle=\"--\", color='darkmagenta')\n",
    "plt.xlabel('Tanggal'); plt.ylabel('Konsentrasi PM 2.5')\n",
    "plt.title(\"Grafik Data Aktual dan Hasil Prakiraan dari Data Uji (Test Data)\\n\", fontsize = 15)\n",
    "plt.legend(loc='upper left')"
   ]
  },
  {
   "cell_type": "code",
   "execution_count": null,
   "metadata": {},
   "outputs": [],
   "source": [
    "rmse = mean_squared_error(df_test['Forecast'], df_test['Actual'], squared=False)\n",
    "mae = mean_absolute_error(df_test['Forecast'], df_test['Actual'])\n",
    "mape = mean_absolute_percentage_error(df_test['Forecast'], df_test['Actual'])\n",
    "\n",
    "print('Forecast Test accuracy')\n",
    "print('RMSE: ', round(rmse,2))\n",
    "print('MAE: ', round(mae,2))\n",
    "print('MAPE: ', round(mape,4))"
   ]
  },
  {
   "attachments": {},
   "cell_type": "markdown",
   "metadata": {},
   "source": [
    "## Summary Eval Metric"
   ]
  },
  {
   "cell_type": "code",
   "execution_count": null,
   "metadata": {},
   "outputs": [],
   "source": [
    "fig, ax = plt.subplots(figsize = (25,8)) \n",
    "ax = sns.lineplot(x=\"Date\", y=\"Actual\", data=df_train, \n",
    "                    label=\"data latih aktual\", marker='.', color='tan')\n",
    "ax = sns.lineplot(x=\"Date\", y=\"Forecast\", data=df_train, \n",
    "                    label=\"prakiraan data latih\", marker='.', linestyle=\"--\", color='darkslateblue')\n",
    "ax = sns.lineplot(x=\"Date\", y=\"Actual\", data=df_val, \n",
    "                    label=\"data validasi aktual\", marker='.', color='sandybrown')\n",
    "ax = sns.lineplot(x=\"Date\", y=\"Forecast\", data=df_val, \n",
    "                    label=\"prakiraan data validasi\", marker='.', linestyle=\"--\", color='darkslategrey')\n",
    "ax = sns.lineplot(x=\"Date\", y=\"Actual\", data=df_test,\n",
    "                    label=\"data uji aktual\", marker='.', color = 'skyblue')\n",
    "ax = sns.lineplot(x=\"Date\", y=\"Forecast\", data=df_test, \n",
    "                    label=\"prakiraan data uji\", marker='.', linestyle=\"--\", color='darkmagenta')\n",
    "plt.xlabel('Tanggal'); plt.ylabel('Konsentrasi PM 2.5')\n",
    "plt.title(\"Grafik Data Aktual dan Hasil Prakiraan\\n\", fontsize = 20)\n",
    "plt.legend(loc='upper left')"
   ]
  },
  {
   "cell_type": "code",
   "execution_count": null,
   "metadata": {},
   "outputs": [],
   "source": [
    "rmse = mean_squared_error(df_train['Forecast'], df_train['Actual'], squared=False)\n",
    "mae = mean_absolute_error(df_train['Forecast'], df_train['Actual'])\n",
    "mape = mean_absolute_percentage_error(df_train['Forecast'], df_train['Actual'])\n",
    "\n",
    "print('Forecast Train accuracy')\n",
    "print('RMSE: ', round(rmse,2))\n",
    "print('MAE: ', round(mae,2))\n",
    "print('MAPE: ', round(mape,4))\n",
    "\n",
    "rmse = mean_squared_error(df_val['Forecast'], df_val['Actual'], squared=False)\n",
    "mae = mean_absolute_error(df_val['Forecast'], df_val['Actual'])\n",
    "mape = mean_absolute_percentage_error(df_val['Forecast'], df_val['Actual'])\n",
    "\n",
    "print('Forecast Val accuracy')\n",
    "print('RMSE: ', round(rmse,2))\n",
    "print('MAE: ', round(mae,2))\n",
    "print('MAPE: ', round(mape,4))\n",
    "\n",
    "rmse = mean_squared_error(df_test['Forecast'], df_test['Actual'], squared=False)\n",
    "mae = mean_absolute_error(df_test['Forecast'], df_test['Actual'])\n",
    "mape = mean_absolute_percentage_error(df_test['Forecast'], df_test['Actual'])\n",
    "\n",
    "print('Forecast Test accuracy')\n",
    "print('RMSE: ', round(rmse,2))\n",
    "print('MAE: ', round(mae,2))\n",
    "print('MAPE: ', round(mape,4))"
   ]
  },
  {
   "attachments": {},
   "cell_type": "markdown",
   "metadata": {},
   "source": [
    "# Biderectional LSTM"
   ]
  },
  {
   "cell_type": "markdown",
   "metadata": {},
   "source": [
    "## generate model"
   ]
  },
  {
   "cell_type": "code",
   "execution_count": null,
   "metadata": {},
   "outputs": [],
   "source": [
    "# from numpy.random import seed\n",
    "# seed(22)\n",
    "# import tensorflow\n",
    "# tensorflow.random.set_seed(22)\n",
    "\n",
    "modelBiLSTM = Sequential([\n",
    "        Bidirectional(LSTM(8, kernel_regularizer=l2(0.01), recurrent_regularizer=l2(0.01), bias_regularizer=l2(0.01), activation='relu', return_sequences=True),\n",
    "                                          input_shape=x_train[0].shape),\n",
    "        Flatten(),\n",
    "        Dense(n_forecast)\n",
    "    ])\n",
    "\n",
    "modelBiLSTM.summary()"
   ]
  },
  {
   "cell_type": "code",
   "execution_count": null,
   "metadata": {},
   "outputs": [],
   "source": [
    "optimizer = tf.keras.optimizers.Adam(learning_rate=1e-4)\n",
    "modelBiLSTM.compile(loss=tf.losses.Huber(),\n",
    "              optimizer=optimizer,\n",
    "              metrics=[\"mse\"])"
   ]
  },
  {
   "cell_type": "code",
   "execution_count": null,
   "metadata": {},
   "outputs": [],
   "source": [
    "estop=tf.keras.callbacks.EarlyStopping(monitor=\"val_loss\",patience=15,verbose=1,\n",
    "                                       restore_best_weights=True)\n",
    "mc=tf.keras.callbacks.ModelCheckpoint('./model v9/UnivariateForecast_BiLSTM-Model.h5', monitor='val_mse', mode='min', verbose=1, save_best_only=True)"
   ]
  },
  {
   "cell_type": "code",
   "execution_count": null,
   "metadata": {},
   "outputs": [],
   "source": [
    "historyBiLSTM = modelBiLSTM.fit(\n",
    "    x_train, y_train, \n",
    "    epochs=1000, \n",
    "    batch_size=8, \n",
    "    # shuffle=True,\n",
    "    callbacks=[estop, mc],\n",
    "    validation_data=(x_val,y_val))"
   ]
  },
  {
   "cell_type": "code",
   "execution_count": null,
   "metadata": {},
   "outputs": [],
   "source": [
    "with open('./model v9/historyBiLSTM', 'wb') as file_pi:\n",
    "    pickle.dump(historyBiLSTM.history, file_pi)\n",
    "\n",
    "with open('./model v9/historyBiLSTM', \"rb\") as file_pi:\n",
    "    load_historyBiLSTM = pickle.load(file_pi)"
   ]
  },
  {
   "cell_type": "code",
   "execution_count": null,
   "metadata": {},
   "outputs": [],
   "source": [
    "def plot_graphs(history, metric):\n",
    "    plt.plot(history.history[metric])\n",
    "    plt.plot(history.history[f'val_{metric}'])\n",
    "    plt.xlabel(\"Epochs\")\n",
    "    plt.ylabel(metric)\n",
    "    plt.title(f\"Training vs Validation {metric} of BiLSTM\")\n",
    "    plt.legend([metric, f'val_{metric}'])\n",
    "    plt.show()\n",
    "    \n",
    "plot_graphs(historyBiLSTM, \"loss\")\n",
    "plot_graphs(historyBiLSTM, \"mse\")"
   ]
  },
  {
   "attachments": {},
   "cell_type": "markdown",
   "metadata": {},
   "source": [
    "## Prediction"
   ]
  },
  {
   "attachments": {},
   "cell_type": "markdown",
   "metadata": {},
   "source": [
    "### Prediction with training data"
   ]
  },
  {
   "cell_type": "code",
   "execution_count": null,
   "metadata": {},
   "outputs": [],
   "source": [
    "forecast_train_data = model_forecast(modelBiLSTM, pm2p5_train_scaled, n_lookback, 1)\n",
    "print(forecast_train_data.shape)\n",
    "\n",
    "forecast_train_data = forecast_train_data[:-1, 0]\n",
    "print(forecast_train_data.shape)\n",
    "print(pm2p5_train_scaled.shape[0]-n_lookback)"
   ]
  },
  {
   "cell_type": "code",
   "execution_count": null,
   "metadata": {},
   "outputs": [],
   "source": [
    "forecast_train_data = inverse_normalize_series(forecast_train_data, Average(pm2p5_train), stdev(pm2p5_train.flatten()))\n",
    "forecast_train_data[:5]"
   ]
  },
  {
   "cell_type": "code",
   "execution_count": null,
   "metadata": {},
   "outputs": [],
   "source": [
    "actual = np.squeeze(pm2p5_train[-forecast_train_data.shape[0]:])\n",
    "print(actual.shape)\n",
    "print(actual[:5])"
   ]
  },
  {
   "cell_type": "code",
   "execution_count": null,
   "metadata": {},
   "outputs": [],
   "source": [
    "df_train = pd.DataFrame(columns=['Date', 'Actual', 'Forecast'])\n",
    "df_train['Date'] = data_train[-forecast_train_data.shape[0]:].index\n",
    "df_train['Forecast'] = forecast_train_data\n",
    "df_train['Actual'] = actual\n",
    "df_train"
   ]
  },
  {
   "cell_type": "code",
   "execution_count": null,
   "metadata": {},
   "outputs": [],
   "source": [
    "plt.subplots(figsize=(20, 5))\n",
    "ax = sns.lineplot(x=\"Date\", y=\"Actual\", data=df_train, \n",
    "                    label=\"data latih aktual\", marker='.', color = 'tan')\n",
    "ax = sns.lineplot(x=\"Date\", y=\"Forecast\", data=df_train, \n",
    "                    label=\"prakiraan data latih\", marker='.', linestyle=\"--\", color = 'darkslateblue')\n",
    "plt.xlabel('Tanggal'); plt.ylabel('Konsentrasi PM 2.5')\n",
    "plt.title(\"Grafik Data Aktual dan Hasil Prakiraan dari Data Latih (Train Data)\\n\", fontsize = 15)\n",
    "plt.legend(loc='upper left')"
   ]
  },
  {
   "cell_type": "code",
   "execution_count": null,
   "metadata": {},
   "outputs": [],
   "source": [
    "rmse = mean_squared_error(df_train['Forecast'], df_train['Actual'], squared=False)\n",
    "mae = mean_absolute_error(df_train['Forecast'], df_train['Actual'])\n",
    "mape = mean_absolute_percentage_error(df_train['Forecast'], df_train['Actual'])\n",
    "\n",
    "print('Forecast Train accuracy')\n",
    "print('RMSE: ', round(rmse,2))\n",
    "print('MAE: ', round(mae,2))\n",
    "print('MAPE: ', round(mape,4))"
   ]
  },
  {
   "attachments": {},
   "cell_type": "markdown",
   "metadata": {},
   "source": [
    "### Prediction with validation data"
   ]
  },
  {
   "cell_type": "code",
   "execution_count": null,
   "metadata": {},
   "outputs": [],
   "source": [
    "forecast_val_data = model_forecast(modelBiLSTM, pm2p5_val_scaled, n_lookback, 1)\n",
    "print(forecast_val_data.shape)\n",
    "\n",
    "forecast_val_data = forecast_val_data[:-1, 0]\n",
    "print(forecast_val_data.shape)\n",
    "print(pm2p5_val_scaled.shape[0]-n_lookback)"
   ]
  },
  {
   "cell_type": "code",
   "execution_count": null,
   "metadata": {},
   "outputs": [],
   "source": [
    "forecast_val_data = inverse_normalize_series(forecast_val_data, Average(pm2p5_val), stdev(pm2p5_val.flatten()))\n",
    "forecast_val_data[:5]"
   ]
  },
  {
   "cell_type": "code",
   "execution_count": null,
   "metadata": {},
   "outputs": [],
   "source": [
    "actual = np.squeeze(pm2p5_val[-forecast_val_data.shape[0]:])\n",
    "print(actual.shape)\n",
    "print(actual[:5])"
   ]
  },
  {
   "cell_type": "code",
   "execution_count": null,
   "metadata": {},
   "outputs": [],
   "source": [
    "len(data_val[-forecast_val_data.shape[0]:])"
   ]
  },
  {
   "cell_type": "code",
   "execution_count": null,
   "metadata": {},
   "outputs": [],
   "source": [
    "df_val = pd.DataFrame(columns=['Date', 'Actual', 'Forecast'])\n",
    "df_val['Date'] = data_val[-forecast_val_data.shape[0]:].index\n",
    "df_val['Forecast'] = forecast_val_data\n",
    "df_val['Actual'] = actual\n",
    "df_val"
   ]
  },
  {
   "cell_type": "code",
   "execution_count": null,
   "metadata": {},
   "outputs": [],
   "source": [
    "plt.subplots(figsize=(15, 5))\n",
    "ax = sns.lineplot(x=\"Date\", y=\"Actual\", data=df_val, \n",
    "                    label=\"data validasi aktual\", marker='.', color='sandybrown')\n",
    "ax = sns.lineplot(x=\"Date\", y=\"Forecast\", data=df_val, \n",
    "                    label=\"prakiraan data validasi\", marker='.', linestyle=\"--\", color='darkslategrey')\n",
    "plt.xlabel('Tanggal'); plt.ylabel('Konsentrasi PM 2.5')\n",
    "plt.title(\"Grafik Data Aktual dan Hasil Prakiraan dari Data Validasi (Validation Data)\\n\", fontsize = 15)\n",
    "plt.legend(loc='upper left')"
   ]
  },
  {
   "cell_type": "code",
   "execution_count": null,
   "metadata": {},
   "outputs": [],
   "source": [
    "rmse = mean_squared_error(df_val['Forecast'], df_val['Actual'], squared=False)\n",
    "mae = mean_absolute_error(df_val['Forecast'], df_val['Actual'])\n",
    "mape = mean_absolute_percentage_error(df_val['Forecast'], df_val['Actual'])\n",
    "\n",
    "print('Forecast Val accuracy')\n",
    "print('RMSE: ', round(rmse,2))\n",
    "print('MAE: ', round(mae,2))\n",
    "print('MAPE: ', round(mape,4))"
   ]
  },
  {
   "attachments": {},
   "cell_type": "markdown",
   "metadata": {},
   "source": [
    "### Prediction with test data"
   ]
  },
  {
   "cell_type": "code",
   "execution_count": null,
   "metadata": {},
   "outputs": [],
   "source": [
    "forecast_test_data = model_forecast(modelBiLSTM, pm2p5_test_scaled, n_lookback, 1)\n",
    "print(forecast_test_data.shape)\n",
    "\n",
    "forecast_test_data = forecast_test_data[:-1, 0]\n",
    "print(forecast_test_data.shape)\n",
    "print(pm2p5_test_scaled.shape[0]-n_lookback)"
   ]
  },
  {
   "cell_type": "code",
   "execution_count": null,
   "metadata": {},
   "outputs": [],
   "source": [
    "forecast_test_data = inverse_normalize_series(forecast_test_data, Average(pm2p5_test), stdev(pm2p5_test.flatten()))\n",
    "forecast_test_data[:5]"
   ]
  },
  {
   "cell_type": "code",
   "execution_count": null,
   "metadata": {},
   "outputs": [],
   "source": [
    "actual = np.squeeze(pm2p5_test[-forecast_test_data.shape[0]:])\n",
    "print(actual.shape)\n",
    "print(actual[:5])"
   ]
  },
  {
   "cell_type": "code",
   "execution_count": null,
   "metadata": {},
   "outputs": [],
   "source": [
    "df_test = pd.DataFrame(columns=['Date', 'Actual', 'Forecast'])\n",
    "df_test['Date'] = data_test[-forecast_test_data.shape[0]:].index\n",
    "df_test['Forecast'] = forecast_test_data\n",
    "df_test['Actual'] = actual\n",
    "df_test"
   ]
  },
  {
   "cell_type": "code",
   "execution_count": null,
   "metadata": {},
   "outputs": [],
   "source": [
    "plt.subplots(figsize=(10, 5))\n",
    "ax = sns.lineplot(x=\"Date\", y=\"Actual\", data=df_test,\n",
    "                    label=\"data test aktual\", marker='.', color = 'skyblue')\n",
    "ax = sns.lineplot(x=\"Date\", y=\"Forecast\", data=df_test, \n",
    "                    label=\"prakiraan data test\", marker='.', linestyle=\"--\", color='darkmagenta')\n",
    "plt.xlabel('Tanggal'); plt.ylabel('Konsentrasi PM 2.5')\n",
    "plt.title(\"Grafik Data Aktual dan Hasil Prakiraan dari Data Uji (Test Data)\\n\", fontsize = 15)\n",
    "plt.legend(loc='upper left')"
   ]
  },
  {
   "cell_type": "code",
   "execution_count": null,
   "metadata": {},
   "outputs": [],
   "source": [
    "rmse = mean_squared_error(df_test['Forecast'], df_test['Actual'], squared=False)\n",
    "mae = mean_absolute_error(df_test['Forecast'], df_test['Actual'])\n",
    "mape = mean_absolute_percentage_error(df_test['Forecast'], df_test['Actual'])\n",
    "\n",
    "print('Forecast Test accuracy')\n",
    "print('RMSE: ', round(rmse,2))\n",
    "print('MAE: ', round(mae,2))\n",
    "print('MAPE: ', round(mape,4))"
   ]
  },
  {
   "attachments": {},
   "cell_type": "markdown",
   "metadata": {},
   "source": [
    "## Summary Eval Metric"
   ]
  },
  {
   "cell_type": "code",
   "execution_count": null,
   "metadata": {},
   "outputs": [],
   "source": [
    "fig, ax = plt.subplots(figsize = (25,8)) \n",
    "ax = sns.lineplot(x=\"Date\", y=\"Actual\", data=df_train, \n",
    "                    label=\"data latih aktual\", marker='.', color='tan')\n",
    "ax = sns.lineplot(x=\"Date\", y=\"Forecast\", data=df_train, \n",
    "                    label=\"prakiraan data latih\", marker='.', linestyle=\"--\", color='darkslateblue')\n",
    "ax = sns.lineplot(x=\"Date\", y=\"Actual\", data=df_val, \n",
    "                    label=\"data validasi aktual\", marker='.', color='sandybrown')\n",
    "ax = sns.lineplot(x=\"Date\", y=\"Forecast\", data=df_val, \n",
    "                    label=\"prakiraan data validasi\", marker='.', linestyle=\"--\", color='darkslategrey')\n",
    "ax = sns.lineplot(x=\"Date\", y=\"Actual\", data=df_test,\n",
    "                    label=\"data uji aktual\", marker='.', color = 'skyblue')\n",
    "ax = sns.lineplot(x=\"Date\", y=\"Forecast\", data=df_test, \n",
    "                    label=\"prakiraan data uji\", marker='.', linestyle=\"--\", color='darkmagenta')\n",
    "plt.xlabel('Tanggal'); plt.ylabel('Konsentrasi PM 2.5')\n",
    "plt.title(\"Grafik Data Aktual dan Hasil Prakiraan\\n\", fontsize = 20)\n",
    "plt.legend(loc='upper left')"
   ]
  },
  {
   "cell_type": "code",
   "execution_count": null,
   "metadata": {},
   "outputs": [],
   "source": [
    "rmse = mean_squared_error(df_train['Forecast'], df_train['Actual'], squared=False)\n",
    "mae = mean_absolute_error(df_train['Forecast'], df_train['Actual'])\n",
    "mape = mean_absolute_percentage_error(df_train['Forecast'], df_train['Actual'])\n",
    "\n",
    "print('Forecast Train accuracy')\n",
    "print('RMSE: ', round(rmse,2))\n",
    "print('MAE: ', round(mae,2))\n",
    "print('MAPE: ', round(mape,4))\n",
    "\n",
    "rmse = mean_squared_error(df_val['Forecast'], df_val['Actual'], squared=False)\n",
    "mae = mean_absolute_error(df_val['Forecast'], df_val['Actual'])\n",
    "mape = mean_absolute_percentage_error(df_val['Forecast'], df_val['Actual'])\n",
    "\n",
    "print('Forecast Val accuracy')\n",
    "print('RMSE: ', round(rmse,2))\n",
    "print('MAE: ', round(mae,2))\n",
    "print('MAPE: ', round(mape,4))\n",
    "\n",
    "rmse = mean_squared_error(df_test['Forecast'], df_test['Actual'], squared=False)\n",
    "mae = mean_absolute_error(df_test['Forecast'], df_test['Actual'])\n",
    "mape = mean_absolute_percentage_error(df_test['Forecast'], df_test['Actual'])\n",
    "\n",
    "print('Forecast Test accuracy')\n",
    "print('RMSE: ', round(rmse,2))\n",
    "print('MAE: ', round(mae,2))\n",
    "print('MAPE: ', round(mape,4))"
   ]
  },
  {
   "attachments": {},
   "cell_type": "markdown",
   "metadata": {},
   "source": [
    "# 2 Stacked Biderectional LSTM"
   ]
  },
  {
   "cell_type": "markdown",
   "metadata": {},
   "source": [
    "## generate model"
   ]
  },
  {
   "cell_type": "code",
   "execution_count": null,
   "metadata": {},
   "outputs": [],
   "source": [
    "model2StackedBiLSTM = Sequential([\n",
    "        Bidirectional(tf.keras.layers.LSTM(8, kernel_regularizer=l2(0.01), recurrent_regularizer=l2(0.01), bias_regularizer=l2(0.01), activation='relu', return_sequences=True),\n",
    "                                          input_shape=x_train[0].shape),\n",
    "        Bidirectional(tf.keras.layers.LSTM(8, kernel_regularizer=l2(0.01), recurrent_regularizer=l2(0.01), bias_regularizer=l2(0.01), activation='relu', return_sequences=True)),\n",
    "        Flatten(),\n",
    "        Dense(n_forecast)\n",
    "    ])\n",
    "\n",
    "model2StackedBiLSTM.summary()"
   ]
  },
  {
   "cell_type": "code",
   "execution_count": null,
   "metadata": {},
   "outputs": [],
   "source": [
    "optimizer = tf.keras.optimizers.Adam(learning_rate=1e-4)\n",
    "model2StackedBiLSTM.compile(loss=tf.losses.Huber(),\n",
    "              optimizer=optimizer,\n",
    "              metrics=[\"mse\"])"
   ]
  },
  {
   "cell_type": "code",
   "execution_count": null,
   "metadata": {},
   "outputs": [],
   "source": [
    "estop=tf.keras.callbacks.EarlyStopping(monitor=\"val_loss\",patience=15,verbose=1,\n",
    "                                       restore_best_weights=True)\n",
    "mc=tf.keras.callbacks.ModelCheckpoint('./model v9/UnivariateForecast_2StackedBiLSTM-Model.h5', monitor='val_mse', mode='min', verbose=1, save_best_only=True)"
   ]
  },
  {
   "cell_type": "code",
   "execution_count": null,
   "metadata": {},
   "outputs": [],
   "source": [
    "history2StackedBiLSTM = model2StackedBiLSTM.fit(\n",
    "    x_train, y_train, \n",
    "    epochs=1000, \n",
    "    batch_size=8, \n",
    "    callbacks=[estop, mc],\n",
    "    validation_data=(x_val,y_val))"
   ]
  },
  {
   "cell_type": "code",
   "execution_count": null,
   "metadata": {},
   "outputs": [],
   "source": [
    "with open('./model v9/history2StackedBiLSTM', 'wb') as file_pi:\n",
    "    pickle.dump(history2StackedBiLSTM.history, file_pi)\n",
    "\n",
    "with open('./model v9/history2StackedBiLSTM', \"rb\") as file_pi:\n",
    "    load_history2StackedBiLSTM = pickle.load(file_pi)"
   ]
  },
  {
   "cell_type": "code",
   "execution_count": null,
   "metadata": {},
   "outputs": [],
   "source": [
    "def plot_graphs(history, metric):\n",
    "    plt.plot(history.history[metric])\n",
    "    plt.plot(history.history[f'val_{metric}'])\n",
    "    plt.xlabel(\"Epochs\")\n",
    "    plt.ylabel(metric)\n",
    "    plt.title(f\"Training vs Validation {metric} of 2-Stacked BiLSTM\")\n",
    "    plt.legend([metric, f'val_{metric}'])\n",
    "    plt.show()\n",
    "    \n",
    "plot_graphs(history2StackedBiLSTM, \"loss\")\n",
    "plot_graphs(history2StackedBiLSTM, \"mse\")"
   ]
  },
  {
   "attachments": {},
   "cell_type": "markdown",
   "metadata": {},
   "source": [
    "## Prediction"
   ]
  },
  {
   "attachments": {},
   "cell_type": "markdown",
   "metadata": {},
   "source": [
    "### Prediction with training data"
   ]
  },
  {
   "cell_type": "code",
   "execution_count": null,
   "metadata": {},
   "outputs": [],
   "source": [
    "def model_forecast(model, series, window_size, batch_size):\n",
    "   ds = tf.data.Dataset.from_tensor_slices(series)\n",
    "   ds = ds.window(window_size, shift=1, drop_remainder=True)\n",
    "   ds = ds.flat_map(lambda w: w.batch(window_size))\n",
    "   ds = ds.batch(batch_size, drop_remainder=True).prefetch(1)\n",
    "   forecast = model.predict(ds)\n",
    "   return forecast"
   ]
  },
  {
   "cell_type": "code",
   "execution_count": null,
   "metadata": {},
   "outputs": [],
   "source": [
    "forecast_train_data = model_forecast(model2StackedBiLSTM, pm2p5_train_scaled, n_lookback, 1)\n",
    "print(forecast_train_data.shape)\n",
    "\n",
    "forecast_train_data = forecast_train_data[:-1, 0]\n",
    "print(forecast_train_data.shape)\n",
    "print(pm2p5_train_scaled.shape[0]-n_lookback)"
   ]
  },
  {
   "cell_type": "code",
   "execution_count": null,
   "metadata": {},
   "outputs": [],
   "source": [
    "forecast_train_data = inverse_normalize_series(forecast_train_data, Average(pm2p5_train), stdev(pm2p5_train.flatten()))\n",
    "forecast_train_data[:5]"
   ]
  },
  {
   "cell_type": "code",
   "execution_count": null,
   "metadata": {},
   "outputs": [],
   "source": [
    "actual = np.squeeze(pm2p5_train[-forecast_train_data.shape[0]:])\n",
    "print(actual.shape)\n",
    "print(actual[:5])"
   ]
  },
  {
   "cell_type": "code",
   "execution_count": null,
   "metadata": {},
   "outputs": [],
   "source": [
    "df_train = pd.DataFrame(columns=['Date', 'Actual', 'Forecast'])\n",
    "df_train['Date'] = data_train[-forecast_train_data.shape[0]:].index\n",
    "df_train['Forecast'] = forecast_train_data\n",
    "df_train['Actual'] = actual\n",
    "df_train"
   ]
  },
  {
   "cell_type": "code",
   "execution_count": null,
   "metadata": {},
   "outputs": [],
   "source": [
    "plt.subplots(figsize=(20, 5))\n",
    "ax = sns.lineplot(x=\"Date\", y=\"Actual\", data=df_train, \n",
    "                    label=\"data latih aktual\", marker='.', color = 'tan')\n",
    "ax = sns.lineplot(x=\"Date\", y=\"Forecast\", data=df_train, \n",
    "                    label=\"prakiraan data latih\", marker='.', linestyle=\"--\", color = 'darkslateblue')\n",
    "plt.xlabel('Tanggal'); plt.ylabel('Konsentrasi PM 2.5')\n",
    "plt.title(\"Grafik Data Aktual dan Hasil Prakiraan dari Data Latih (Train Data)\\n\", fontsize = 15)\n",
    "plt.legend(loc='upper left')"
   ]
  },
  {
   "cell_type": "code",
   "execution_count": null,
   "metadata": {},
   "outputs": [],
   "source": [
    "rmse = mean_squared_error(df_train['Forecast'], df_train['Actual'], squared=False)\n",
    "mae = mean_absolute_error(df_train['Forecast'], df_train['Actual'])\n",
    "mape = mean_absolute_percentage_error(df_train['Forecast'], df_train['Actual'])\n",
    "\n",
    "print('Forecast Train accuracy')\n",
    "print('RMSE: ', round(rmse,2))\n",
    "print('MAE: ', round(mae,2))\n",
    "print('MAPE: ', round(mape,4))"
   ]
  },
  {
   "attachments": {},
   "cell_type": "markdown",
   "metadata": {},
   "source": [
    "### Prediction with validation data"
   ]
  },
  {
   "cell_type": "code",
   "execution_count": null,
   "metadata": {},
   "outputs": [],
   "source": [
    "forecast_val_data = model_forecast(model2StackedBiLSTM, pm2p5_val_scaled, n_lookback, 1)\n",
    "print(forecast_val_data.shape)\n",
    "\n",
    "forecast_val_data = forecast_val_data[:-1, 0]\n",
    "print(forecast_val_data.shape)\n",
    "print(pm2p5_val_scaled.shape[0]-n_lookback)"
   ]
  },
  {
   "cell_type": "code",
   "execution_count": null,
   "metadata": {},
   "outputs": [],
   "source": [
    "forecast_val_data = inverse_normalize_series(forecast_val_data, Average(pm2p5_val), stdev(pm2p5_val.flatten()))\n",
    "forecast_val_data[:5]"
   ]
  },
  {
   "cell_type": "code",
   "execution_count": null,
   "metadata": {},
   "outputs": [],
   "source": [
    "actual = np.squeeze(pm2p5_val[-forecast_val_data.shape[0]:])\n",
    "print(actual.shape)\n",
    "print(actual[:5])"
   ]
  },
  {
   "cell_type": "code",
   "execution_count": null,
   "metadata": {},
   "outputs": [],
   "source": [
    "len(data_val[-forecast_val_data.shape[0]:])"
   ]
  },
  {
   "cell_type": "code",
   "execution_count": null,
   "metadata": {},
   "outputs": [],
   "source": [
    "df_val = pd.DataFrame(columns=['Date', 'Actual', 'Forecast'])\n",
    "df_val['Date'] = data_val[-forecast_val_data.shape[0]:].index\n",
    "df_val['Forecast'] = forecast_val_data\n",
    "df_val['Actual'] = actual\n",
    "df_val"
   ]
  },
  {
   "cell_type": "code",
   "execution_count": null,
   "metadata": {},
   "outputs": [],
   "source": [
    "plt.subplots(figsize=(15, 5))\n",
    "ax = sns.lineplot(x=\"Date\", y=\"Actual\", data=df_val, \n",
    "                    label=\"data validasi aktual\", marker='.', color='sandybrown')\n",
    "ax = sns.lineplot(x=\"Date\", y=\"Forecast\", data=df_val, \n",
    "                    label=\"prakiraan data validasi\", marker='.', linestyle=\"--\", color='darkslategrey')\n",
    "plt.xlabel('Tanggal'); plt.ylabel('Konsentrasi PM 2.5')\n",
    "plt.title(\"Grafik Data Aktual dan Hasil Prakiraan dari Data Validasi (Validation Data)\\n\", fontsize = 15)\n",
    "plt.legend(loc='upper left')"
   ]
  },
  {
   "cell_type": "code",
   "execution_count": null,
   "metadata": {},
   "outputs": [],
   "source": [
    "rmse = mean_squared_error(df_val['Forecast'], df_val['Actual'], squared=False)\n",
    "mae = mean_absolute_error(df_val['Forecast'], df_val['Actual'])\n",
    "mape = mean_absolute_percentage_error(df_val['Forecast'], df_val['Actual'])\n",
    "\n",
    "print('Forecast Val accuracy')\n",
    "print('RMSE: ', round(rmse,2))\n",
    "print('MAE: ', round(mae,2))\n",
    "print('MAPE: ', round(mape,4))"
   ]
  },
  {
   "attachments": {},
   "cell_type": "markdown",
   "metadata": {},
   "source": [
    "### Prediction with test data"
   ]
  },
  {
   "cell_type": "code",
   "execution_count": null,
   "metadata": {},
   "outputs": [],
   "source": [
    "pm2p5_test = data_test.values\n",
    "\n",
    "pm2p5_test_scaled = normalize_series(pm2p5_test, Average(pm2p5_test), stdev(pm2p5_test.flatten()))"
   ]
  },
  {
   "cell_type": "code",
   "execution_count": null,
   "metadata": {},
   "outputs": [],
   "source": [
    "forecast_test_data = model_forecast(model2StackedBiLSTM, pm2p5_test_scaled, n_lookback, 1)\n",
    "print(forecast_test_data.shape)\n",
    "\n",
    "forecast_test_data = forecast_test_data[:-1, 0]\n",
    "print(forecast_test_data.shape)\n",
    "print(pm2p5_test_scaled.shape[0]-n_lookback)"
   ]
  },
  {
   "cell_type": "code",
   "execution_count": null,
   "metadata": {},
   "outputs": [],
   "source": [
    "forecast_test_data = inverse_normalize_series(forecast_test_data, Average(pm2p5_test), stdev(pm2p5_test.flatten()))\n",
    "forecast_test_data[:5]"
   ]
  },
  {
   "cell_type": "code",
   "execution_count": null,
   "metadata": {},
   "outputs": [],
   "source": [
    "actual = np.squeeze(pm2p5_test[-forecast_test_data.shape[0]:])\n",
    "print(actual.shape)\n",
    "print(actual[:5])"
   ]
  },
  {
   "cell_type": "code",
   "execution_count": null,
   "metadata": {},
   "outputs": [],
   "source": [
    "df_test = pd.DataFrame(columns=['Date', 'Actual', 'Forecast'])\n",
    "df_test['Date'] = data_test[-forecast_test_data.shape[0]:].index\n",
    "df_test['Forecast'] = forecast_test_data\n",
    "df_test['Actual'] = actual\n",
    "df_test"
   ]
  },
  {
   "cell_type": "code",
   "execution_count": null,
   "metadata": {},
   "outputs": [],
   "source": [
    "plt.subplots(figsize=(10, 5))\n",
    "ax = sns.lineplot(x=\"Date\", y=\"Actual\", data=df_test,\n",
    "                    label=\"data test aktual\", marker='.', color = 'skyblue')\n",
    "ax = sns.lineplot(x=\"Date\", y=\"Forecast\", data=df_test, \n",
    "                    label=\"prakiraan data test\", marker='.', linestyle=\"--\", color='darkmagenta')\n",
    "plt.xlabel('Tanggal'); plt.ylabel('Konsentrasi PM 2.5')\n",
    "plt.title(\"Grafik Data Aktual dan Hasil Prakiraan dari Data Uji (Test Data)\\n\", fontsize = 15)\n",
    "plt.legend(loc='upper left')"
   ]
  },
  {
   "cell_type": "code",
   "execution_count": null,
   "metadata": {},
   "outputs": [],
   "source": [
    "rmse = mean_squared_error(df_test['Forecast'], df_test['Actual'], squared=False)\n",
    "mae = mean_absolute_error(df_test['Forecast'], df_test['Actual'])\n",
    "mape = mean_absolute_percentage_error(df_test['Forecast'], df_test['Actual'])\n",
    "\n",
    "print('Forecast Test accuracy')\n",
    "print('RMSE: ', round(rmse,2))\n",
    "print('MAE: ', round(mae,2))\n",
    "print('MAPE: ', round(mape,4))"
   ]
  },
  {
   "cell_type": "code",
   "execution_count": null,
   "metadata": {},
   "outputs": [],
   "source": [
    "fig, ax = plt.subplots(figsize = (25,8)) \n",
    "ax = sns.lineplot(x=\"Date\", y=\"Actual\", data=df_train, \n",
    "                    label=\"data latih aktual\", marker='.', color='tan')\n",
    "ax = sns.lineplot(x=\"Date\", y=\"Forecast\", data=df_train, \n",
    "                    label=\"prakiraan data latih\", marker='.', linestyle=\"--\", color='darkslateblue')\n",
    "ax = sns.lineplot(x=\"Date\", y=\"Actual\", data=df_val, \n",
    "                    label=\"data validasi aktual\", marker='.', color='sandybrown')\n",
    "ax = sns.lineplot(x=\"Date\", y=\"Forecast\", data=df_val, \n",
    "                    label=\"prakiraan data validasi\", marker='.', linestyle=\"--\", color='darkslategrey')\n",
    "ax = sns.lineplot(x=\"Date\", y=\"Actual\", data=df_test,\n",
    "                    label=\"data uji aktual\", marker='.', color = 'skyblue')\n",
    "ax = sns.lineplot(x=\"Date\", y=\"Forecast\", data=df_test, \n",
    "                    label=\"prakiraan data uji\", marker='.', linestyle=\"--\", color='darkmagenta')\n",
    "plt.xlabel('Tanggal'); plt.ylabel('Konsentrasi PM 2.5')\n",
    "plt.title(\"Grafik Data Aktual dan Hasil Prakiraan\\n\", fontsize = 20)\n",
    "plt.legend(loc='upper left')"
   ]
  },
  {
   "attachments": {},
   "cell_type": "markdown",
   "metadata": {},
   "source": [
    "## Summary Eval Metric"
   ]
  },
  {
   "cell_type": "code",
   "execution_count": null,
   "metadata": {},
   "outputs": [],
   "source": [
    "rmse = mean_squared_error(df_train['Forecast'], df_train['Actual'], squared=False)\n",
    "mae = mean_absolute_error(df_train['Forecast'], df_train['Actual'])\n",
    "mape = mean_absolute_percentage_error(df_train['Forecast'], df_train['Actual'])\n",
    "\n",
    "print('Forecast Train accuracy')\n",
    "print('RMSE: ', round(rmse,2))\n",
    "print('MAE: ', round(mae,2))\n",
    "print('MAPE: ', round(mape,4))\n",
    "\n",
    "rmse = mean_squared_error(df_val['Forecast'], df_val['Actual'], squared=False)\n",
    "mae = mean_absolute_error(df_val['Forecast'], df_val['Actual'])\n",
    "mape = mean_absolute_percentage_error(df_val['Forecast'], df_val['Actual'])\n",
    "\n",
    "print('Forecast Val accuracy')\n",
    "print('RMSE: ', round(rmse,2))\n",
    "print('MAE: ', round(mae,2))\n",
    "print('MAPE: ', round(mape,4))\n",
    "\n",
    "rmse = mean_squared_error(df_test['Forecast'], df_test['Actual'], squared=False)\n",
    "mae = mean_absolute_error(df_test['Forecast'], df_test['Actual'])\n",
    "mape = mean_absolute_percentage_error(df_test['Forecast'], df_test['Actual'])\n",
    "\n",
    "print('Forecast Test accuracy')\n",
    "print('RMSE: ', round(rmse,2))\n",
    "print('MAE: ', round(mae,2))\n",
    "print('MAPE: ', round(mape,4))"
   ]
  },
  {
   "attachments": {},
   "cell_type": "markdown",
   "metadata": {},
   "source": [
    "# 3 Stacked Biderectional LSTM"
   ]
  },
  {
   "attachments": {},
   "cell_type": "markdown",
   "metadata": {},
   "source": [
    "### Generate 3 Stacked BiLSTM model"
   ]
  },
  {
   "cell_type": "code",
   "execution_count": null,
   "metadata": {},
   "outputs": [],
   "source": [
    "model3StackedBiLSTM = Sequential([\n",
    "        Bidirectional(tf.keras.layers.LSTM(8, kernel_regularizer=l2(0.01), recurrent_regularizer=l2(0.01), bias_regularizer=l2(0.01), activation='relu', return_sequences=True),\n",
    "                                          input_shape=x_train[0].shape),\n",
    "        Bidirectional(tf.keras.layers.LSTM(8, kernel_regularizer=l2(0.01), recurrent_regularizer=l2(0.01), bias_regularizer=l2(0.01), activation='relu', return_sequences=True)),\n",
    "        Bidirectional(tf.keras.layers.LSTM(8, kernel_regularizer=l2(0.01), recurrent_regularizer=l2(0.01), bias_regularizer=l2(0.01), activation='relu', return_sequences=True)),\n",
    "        Flatten(),\n",
    "        Dense(n_forecast)\n",
    "    ])\n",
    "\n",
    "model3StackedBiLSTM.summary()"
   ]
  },
  {
   "cell_type": "code",
   "execution_count": null,
   "metadata": {},
   "outputs": [],
   "source": [
    "optimizer = tf.keras.optimizers.Adam(learning_rate=1e-4)\n",
    "model3StackedBiLSTM.compile(loss=tf.losses.Huber(),\n",
    "              optimizer=optimizer,\n",
    "              metrics=[\"mse\"])"
   ]
  },
  {
   "cell_type": "code",
   "execution_count": null,
   "metadata": {},
   "outputs": [],
   "source": [
    "estop=tf.keras.callbacks.EarlyStopping(monitor=\"val_loss\",patience=15,verbose=1,\n",
    "                                       restore_best_weights=True)\n",
    "mc=tf.keras.callbacks.ModelCheckpoint('./model v9/UnivariateForecast_3StackedBiLSTM-Model.h5', monitor='val_mse', mode='min', verbose=1, save_best_only=True)"
   ]
  },
  {
   "cell_type": "code",
   "execution_count": null,
   "metadata": {},
   "outputs": [],
   "source": [
    "history3StackedBiLSTM = model3StackedBiLSTM.fit(\n",
    "    x_train, y_train, \n",
    "    epochs=1000, \n",
    "    batch_size=8, \n",
    "    callbacks=[estop, mc],\n",
    "    validation_data=(x_val,y_val))"
   ]
  },
  {
   "cell_type": "code",
   "execution_count": null,
   "metadata": {},
   "outputs": [],
   "source": [
    "with open('./model v9/history3StackedBiLSTM', 'wb') as file_pi:\n",
    "    pickle.dump(history3StackedBiLSTM.history, file_pi)\n",
    "\n",
    "with open('./model v9/history3StackedBiLSTM', \"rb\") as file_pi:\n",
    "    load_history3StackedBiLSTM = pickle.load(file_pi)"
   ]
  },
  {
   "cell_type": "code",
   "execution_count": null,
   "metadata": {},
   "outputs": [],
   "source": [
    "def plot_graphs(history, metric):\n",
    "    plt.plot(history.history[metric])\n",
    "    plt.plot(history.history[f'val_{metric}'])\n",
    "    plt.xlabel(\"Epochs\")\n",
    "    plt.ylabel(metric)\n",
    "    plt.title(f\"Training vs Validation {metric} of 3-Stacked BiLSTM\")\n",
    "    plt.legend([metric, f'val_{metric}'])\n",
    "    plt.show()\n",
    "    \n",
    "plot_graphs(history3StackedBiLSTM, \"loss\")\n",
    "plot_graphs(history3StackedBiLSTM, \"mse\")"
   ]
  },
  {
   "attachments": {},
   "cell_type": "markdown",
   "metadata": {},
   "source": [
    "## Prediction"
   ]
  },
  {
   "attachments": {},
   "cell_type": "markdown",
   "metadata": {},
   "source": [
    "### Prediction with training data"
   ]
  },
  {
   "cell_type": "code",
   "execution_count": null,
   "metadata": {},
   "outputs": [],
   "source": [
    "def model_forecast(model, series, window_size, batch_size):\n",
    "   ds = tf.data.Dataset.from_tensor_slices(series)\n",
    "   ds = ds.window(window_size, shift=1, drop_remainder=True)\n",
    "   ds = ds.flat_map(lambda w: w.batch(window_size))\n",
    "   ds = ds.batch(batch_size, drop_remainder=True).prefetch(1)\n",
    "   forecast = model.predict(ds)\n",
    "   return forecast"
   ]
  },
  {
   "cell_type": "code",
   "execution_count": null,
   "metadata": {},
   "outputs": [],
   "source": [
    "forecast_train_data = model_forecast(model3StackedBiLSTM, pm2p5_train_scaled, n_lookback, 1)\n",
    "print(forecast_train_data.shape)\n",
    "\n",
    "forecast_train_data = forecast_train_data[:-1, 0]\n",
    "print(forecast_train_data.shape)\n",
    "print(pm2p5_train_scaled.shape[0]-n_lookback)"
   ]
  },
  {
   "cell_type": "code",
   "execution_count": null,
   "metadata": {},
   "outputs": [],
   "source": [
    "forecast_train_data = inverse_normalize_series(forecast_train_data, Average(pm2p5_train), stdev(pm2p5_train.flatten()))\n",
    "forecast_train_data[:5]"
   ]
  },
  {
   "cell_type": "code",
   "execution_count": null,
   "metadata": {},
   "outputs": [],
   "source": [
    "actual = np.squeeze(pm2p5_train[-forecast_train_data.shape[0]:])\n",
    "print(actual.shape)\n",
    "print(actual[:5])"
   ]
  },
  {
   "cell_type": "code",
   "execution_count": null,
   "metadata": {},
   "outputs": [],
   "source": [
    "df_train = pd.DataFrame(columns=['Date', 'Actual', 'Forecast'])\n",
    "df_train['Date'] = data_train[-forecast_train_data.shape[0]:].index\n",
    "df_train['Forecast'] = forecast_train_data\n",
    "df_train['Actual'] = actual\n",
    "df_train"
   ]
  },
  {
   "cell_type": "code",
   "execution_count": null,
   "metadata": {},
   "outputs": [],
   "source": [
    "plt.subplots(figsize=(20, 5))\n",
    "ax = sns.lineplot(x=\"Date\", y=\"Actual\", data=df_train, \n",
    "                    label=\"data latih aktual\", marker='.', color = 'tan')\n",
    "ax = sns.lineplot(x=\"Date\", y=\"Forecast\", data=df_train, \n",
    "                    label=\"prakiraan data latih\", marker='.', linestyle=\"--\", color = 'darkslateblue')\n",
    "plt.xlabel('Tanggal'); plt.ylabel('Konsentrasi PM 2.5')\n",
    "plt.title(\"Grafik Data Aktual dan Hasil Prakiraan dari Data Latih (Train Data)\\n\", fontsize = 15)\n",
    "plt.legend(loc='upper left')"
   ]
  },
  {
   "cell_type": "code",
   "execution_count": null,
   "metadata": {},
   "outputs": [],
   "source": [
    "rmse = mean_squared_error(df_train['Forecast'], df_train['Actual'], squared=False)\n",
    "mae = mean_absolute_error(df_train['Forecast'], df_train['Actual'])\n",
    "mape = mean_absolute_percentage_error(df_train['Forecast'], df_train['Actual'])\n",
    "\n",
    "print('Forecast Train accuracy')\n",
    "print('RMSE: ', round(rmse,2))\n",
    "print('MAE: ', round(mae,2))\n",
    "print('MAPE: ', round(mape,4))"
   ]
  },
  {
   "attachments": {},
   "cell_type": "markdown",
   "metadata": {},
   "source": [
    "### Prediction with validation data"
   ]
  },
  {
   "cell_type": "code",
   "execution_count": null,
   "metadata": {},
   "outputs": [],
   "source": [
    "forecast_val_data = model_forecast(model3StackedBiLSTM, pm2p5_val_scaled, n_lookback, 1)\n",
    "print(forecast_val_data.shape)\n",
    "\n",
    "forecast_val_data = forecast_val_data[:-1, 0]\n",
    "print(forecast_val_data.shape)\n",
    "print(pm2p5_val_scaled.shape[0]-n_lookback)"
   ]
  },
  {
   "cell_type": "code",
   "execution_count": null,
   "metadata": {},
   "outputs": [],
   "source": [
    "forecast_val_data = inverse_normalize_series(forecast_val_data, Average(pm2p5_val), stdev(pm2p5_val.flatten()))\n",
    "forecast_val_data[:5]"
   ]
  },
  {
   "cell_type": "code",
   "execution_count": null,
   "metadata": {},
   "outputs": [],
   "source": [
    "actual = np.squeeze(pm2p5_val[-forecast_val_data.shape[0]:])\n",
    "print(actual.shape)\n",
    "print(actual[:5])"
   ]
  },
  {
   "cell_type": "code",
   "execution_count": null,
   "metadata": {},
   "outputs": [],
   "source": [
    "len(data_val[-forecast_val_data.shape[0]:])"
   ]
  },
  {
   "cell_type": "code",
   "execution_count": null,
   "metadata": {},
   "outputs": [],
   "source": [
    "df_val = pd.DataFrame(columns=['Date', 'Actual', 'Forecast'])\n",
    "df_val['Date'] = data_val[-forecast_val_data.shape[0]:].index\n",
    "df_val['Forecast'] = forecast_val_data\n",
    "df_val['Actual'] = actual\n",
    "df_val"
   ]
  },
  {
   "cell_type": "code",
   "execution_count": null,
   "metadata": {},
   "outputs": [],
   "source": [
    "plt.subplots(figsize=(15, 5))\n",
    "ax = sns.lineplot(x=\"Date\", y=\"Actual\", data=df_val, \n",
    "                    label=\"data validasi aktual\", marker='.', color='sandybrown')\n",
    "ax = sns.lineplot(x=\"Date\", y=\"Forecast\", data=df_val, \n",
    "                    label=\"prakiraan data validasi\", marker='.', linestyle=\"--\", color='darkslategrey')\n",
    "plt.xlabel('Tanggal'); plt.ylabel('Konsentrasi PM 2.5')\n",
    "plt.title(\"Grafik Data Aktual dan Hasil Prakiraan dari Data Validasi (Validation Data)\\n\", fontsize = 15)\n",
    "plt.legend(loc='upper left')"
   ]
  },
  {
   "cell_type": "code",
   "execution_count": null,
   "metadata": {},
   "outputs": [],
   "source": [
    "rmse = mean_squared_error(df_val['Forecast'], df_val['Actual'], squared=False)\n",
    "mae = mean_absolute_error(df_val['Forecast'], df_val['Actual'])\n",
    "mape = mean_absolute_percentage_error(df_val['Forecast'], df_val['Actual'])\n",
    "\n",
    "print('Forecast Val accuracy')\n",
    "print('RMSE: ', round(rmse,2))\n",
    "print('MAE: ', round(mae,2))\n",
    "print('MAPE: ', round(mape,4))"
   ]
  },
  {
   "attachments": {},
   "cell_type": "markdown",
   "metadata": {},
   "source": [
    "### Prediction with test data"
   ]
  },
  {
   "cell_type": "code",
   "execution_count": null,
   "metadata": {},
   "outputs": [],
   "source": [
    "forecast_test_data = model_forecast(model3StackedBiLSTM, pm2p5_test_scaled, n_lookback, 1)\n",
    "print(forecast_test_data.shape)\n",
    "\n",
    "forecast_test_data = forecast_test_data[:-1, 0]\n",
    "print(forecast_test_data.shape)\n",
    "print(pm2p5_test_scaled.shape[0]-n_lookback)"
   ]
  },
  {
   "cell_type": "code",
   "execution_count": null,
   "metadata": {},
   "outputs": [],
   "source": [
    "forecast_test_data = inverse_normalize_series(forecast_test_data, Average(pm2p5_test), stdev(pm2p5_test.flatten()))\n",
    "forecast_test_data[:5]"
   ]
  },
  {
   "cell_type": "code",
   "execution_count": null,
   "metadata": {},
   "outputs": [],
   "source": [
    "actual = np.squeeze(pm2p5_test[-forecast_test_data.shape[0]:])\n",
    "print(actual.shape)\n",
    "print(actual[:5])"
   ]
  },
  {
   "cell_type": "code",
   "execution_count": null,
   "metadata": {},
   "outputs": [],
   "source": [
    "df_test = pd.DataFrame(columns=['Date', 'Actual', 'Forecast'])\n",
    "df_test['Date'] = data_test[-forecast_test_data.shape[0]:].index\n",
    "df_test['Forecast'] = forecast_test_data\n",
    "df_test['Actual'] = actual\n",
    "df_test"
   ]
  },
  {
   "cell_type": "code",
   "execution_count": null,
   "metadata": {},
   "outputs": [],
   "source": [
    "plt.subplots(figsize=(10, 5))\n",
    "ax = sns.lineplot(x=\"Date\", y=\"Actual\", data=df_test,\n",
    "                    label=\"data test aktual\", marker='.', color = 'skyblue')\n",
    "ax = sns.lineplot(x=\"Date\", y=\"Forecast\", data=df_test, \n",
    "                    label=\"prakiraan data test\", marker='.', linestyle=\"--\", color='darkmagenta')\n",
    "plt.xlabel('Tanggal'); plt.ylabel('Konsentrasi PM 2.5')\n",
    "plt.title(\"Grafik Data Aktual dan Hasil Prakiraan dari Data Uji (Test Data)\\n\", fontsize = 15)\n",
    "plt.legend(loc='upper left')"
   ]
  },
  {
   "cell_type": "code",
   "execution_count": null,
   "metadata": {},
   "outputs": [],
   "source": [
    "rmse = mean_squared_error(df_test['Forecast'], df_test['Actual'], squared=False)\n",
    "mae = mean_absolute_error(df_test['Forecast'], df_test['Actual'])\n",
    "mape = mean_absolute_percentage_error(df_test['Forecast'], df_test['Actual'])\n",
    "\n",
    "print('Forecast Test accuracy')\n",
    "print('RMSE: ', round(rmse,2))\n",
    "print('MAE: ', round(mae,2))\n",
    "print('MAPE: ', round(mape,4))"
   ]
  },
  {
   "cell_type": "code",
   "execution_count": null,
   "metadata": {},
   "outputs": [],
   "source": [
    "fig, ax = plt.subplots(figsize = (25,8)) \n",
    "ax = sns.lineplot(x=\"Date\", y=\"Actual\", data=df_train, \n",
    "                    label=\"data latih aktual\", marker='.', color='tan')\n",
    "ax = sns.lineplot(x=\"Date\", y=\"Forecast\", data=df_train, \n",
    "                    label=\"prakiraan data latih\", marker='.', linestyle=\"--\", color='darkslateblue')\n",
    "ax = sns.lineplot(x=\"Date\", y=\"Actual\", data=df_val, \n",
    "                    label=\"data validasi aktual\", marker='.', color='sandybrown')\n",
    "ax = sns.lineplot(x=\"Date\", y=\"Forecast\", data=df_val, \n",
    "                    label=\"prakiraan data validasi\", marker='.', linestyle=\"--\", color='darkslategrey')\n",
    "ax = sns.lineplot(x=\"Date\", y=\"Actual\", data=df_test,\n",
    "                    label=\"data uji aktual\", marker='.', color = 'skyblue')\n",
    "ax = sns.lineplot(x=\"Date\", y=\"Forecast\", data=df_test, \n",
    "                    label=\"prakiraan data uji\", marker='.', linestyle=\"--\", color='darkmagenta')\n",
    "plt.xlabel('Tanggal'); plt.ylabel('Konsentrasi PM 2.5')\n",
    "plt.title(\"Grafik Data Aktual dan Hasil Prakiraan\\n\", fontsize = 20)\n",
    "plt.legend(loc='upper left')"
   ]
  },
  {
   "attachments": {},
   "cell_type": "markdown",
   "metadata": {},
   "source": [
    "## Summary Eval Metric"
   ]
  },
  {
   "cell_type": "code",
   "execution_count": null,
   "metadata": {},
   "outputs": [],
   "source": [
    "rmse = mean_squared_error(df_train['Forecast'], df_train['Actual'], squared=False)\n",
    "mae = mean_absolute_error(df_train['Forecast'], df_train['Actual'])\n",
    "mape = mean_absolute_percentage_error(df_train['Forecast'], df_train['Actual'])\n",
    "\n",
    "print('Forecast Train accuracy')\n",
    "print('RMSE: ', round(rmse,2))\n",
    "print('MAE: ', round(mae,2))\n",
    "print('MAPE: ', round(mape,4))\n",
    "\n",
    "rmse = mean_squared_error(df_val['Forecast'], df_val['Actual'], squared=False)\n",
    "mae = mean_absolute_error(df_val['Forecast'], df_val['Actual'])\n",
    "mape = mean_absolute_percentage_error(df_val['Forecast'], df_val['Actual'])\n",
    "\n",
    "print('Forecast Val accuracy')\n",
    "print('RMSE: ', round(rmse,2))\n",
    "print('MAE: ', round(mae,2))\n",
    "print('MAPE: ', round(mape,4))\n",
    "\n",
    "rmse = mean_squared_error(df_test['Forecast'], df_test['Actual'], squared=False)\n",
    "mae = mean_absolute_error(df_test['Forecast'], df_test['Actual'])\n",
    "mape = mean_absolute_percentage_error(df_test['Forecast'], df_test['Actual'])\n",
    "\n",
    "print('Forecast Test accuracy')\n",
    "print('RMSE: ', round(rmse,2))\n",
    "print('MAE: ', round(mae,2))\n",
    "print('MAPE: ', round(mape,4))"
   ]
  }
 ],
 "metadata": {
  "kernelspec": {
   "display_name": "Python 3.8.0 64-bit",
   "language": "python",
   "name": "python3"
  },
  "language_info": {
   "codemirror_mode": {
    "name": "ipython",
    "version": 3
   },
   "file_extension": ".py",
   "mimetype": "text/x-python",
   "name": "python",
   "nbconvert_exporter": "python",
   "pygments_lexer": "ipython3",
   "version": "3.8.0"
  },
  "orig_nbformat": 4,
  "vscode": {
   "interpreter": {
    "hash": "52634da84371cba311ea128a5ea7cdc41ff074b781779e754b270ff9f8153cee"
   }
  }
 },
 "nbformat": 4,
 "nbformat_minor": 2
}
